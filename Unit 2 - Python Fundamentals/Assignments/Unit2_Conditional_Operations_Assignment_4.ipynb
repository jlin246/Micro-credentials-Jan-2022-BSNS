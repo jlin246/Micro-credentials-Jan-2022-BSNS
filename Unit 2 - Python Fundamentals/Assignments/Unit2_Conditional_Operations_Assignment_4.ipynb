{
  "nbformat": 4,
  "nbformat_minor": 0,
  "metadata": {
    "colab": {
      "name": "Unit2_Conditional_Operations_Assignment_4.ipynb",
      "provenance": [],
      "collapsed_sections": [],
      "toc_visible": true,
      "include_colab_link": true
    },
    "kernelspec": {
      "name": "python3",
      "display_name": "Python 3"
    }
  },
  "cells": [
    {
      "cell_type": "markdown",
      "metadata": {
        "id": "view-in-github",
        "colab_type": "text"
      },
      "source": [
        "<a href=\"https://colab.research.google.com/github/jlin246/Micro-credentials-Jan-2022-BSNS/blob/main/Unit%202%20-%20Python%20Fundamentals/Assignments/Unit2_Conditional_Operations_Assignment_4.ipynb\" target=\"_parent\"><img src=\"https://colab.research.google.com/assets/colab-badge.svg\" alt=\"Open In Colab\"/></a>"
      ]
    },
    {
      "cell_type": "markdown",
      "metadata": {
        "id": "Vgs8Kp4TidFQ"
      },
      "source": [
        "# Intrdouction to Python - Conditional Operations Assignment #4\n",
        "\n",
        "## If-elif-else Statements "
      ]
    },
    {
      "cell_type": "markdown",
      "metadata": {
        "id": "_Hq7Ny79iwgD"
      },
      "source": [
        "## 1.\tMake a list of 5 or more usernames, including an admin account.  Imagine you are writing code that will welcome people to your application on login. Loop through the list and print your greeting.\n",
        "\n",
        "a.\tIf the admin account logs in, give them a special greeting.  They’re the admin, after all!\n",
        "\n",
        "b.\tOther users can get the generic greeting\n",
        "\n"
      ]
    },
    {
      "cell_type": "code",
      "metadata": {
        "id": "lotvpVpvlKsR",
        "outputId": "641dd5b5-85b3-40dd-dcee-05a49171292d",
        "colab": {
          "base_uri": "https://localhost:8080/"
        }
      },
      "source": [
        "username_dataset = ['admin','user1','user2','user3','user4','user5']\n",
        "for person in username_dataset:\n",
        "  if person == 'admin':\n",
        "    print('Hello administrator')\n",
        "  else:\n",
        "    print('Hello user')"
      ],
      "execution_count": 2,
      "outputs": [
        {
          "output_type": "stream",
          "name": "stdout",
          "text": [
            "Hello administrator\n",
            "Hello user\n",
            "Hello user\n",
            "Hello user\n",
            "Hello user\n",
            "Hello user\n"
          ]
        }
      ]
    },
    {
      "cell_type": "code",
      "metadata": {
        "id": "oNXY-CfrlLbE"
      },
      "source": [
        ""
      ],
      "execution_count": null,
      "outputs": []
    },
    {
      "cell_type": "code",
      "metadata": {
        "id": "lyoaBLI8nvRT"
      },
      "source": [
        ""
      ],
      "execution_count": null,
      "outputs": []
    },
    {
      "cell_type": "code",
      "metadata": {
        "id": "TuD1O2R0nvTd"
      },
      "source": [
        ""
      ],
      "execution_count": null,
      "outputs": []
    },
    {
      "cell_type": "code",
      "metadata": {
        "id": "1uWxo8AxnvVN"
      },
      "source": [
        ""
      ],
      "execution_count": null,
      "outputs": []
    },
    {
      "cell_type": "code",
      "metadata": {
        "id": "32ld2T0onvZE"
      },
      "source": [
        ""
      ],
      "execution_count": null,
      "outputs": []
    },
    {
      "cell_type": "code",
      "metadata": {
        "id": "DGwOthAbnvaw"
      },
      "source": [
        ""
      ],
      "execution_count": null,
      "outputs": []
    },
    {
      "cell_type": "code",
      "metadata": {
        "id": "6_iDEhq5nvd8"
      },
      "source": [
        ""
      ],
      "execution_count": null,
      "outputs": []
    },
    {
      "cell_type": "markdown",
      "metadata": {
        "id": "io_27RSlizno"
      },
      "source": [
        "## 2.\tStore numbers 1-10 in a list\n",
        "\n",
        "a.\tLoop through the list\n",
        "\n",
        "b.\tUse an if-elif-else chain inside your loop to print the ordinal ending for each number – for example – 1st, 2nd, 3rd … etc.\n",
        "\n"
      ]
    },
    {
      "cell_type": "code",
      "metadata": {
        "id": "Dh1o5cAylSHB",
        "outputId": "081f6ba5-8e8c-46f4-9a4e-837391c9dd5f",
        "colab": {
          "base_uri": "https://localhost:8080/"
        }
      },
      "source": [
        "numbers_1to10 = range(1,11)\n",
        "for numbers in numbers_1to10:\n",
        "  if numbers == 1:\n",
        "    print(str(numbers) + 'st')\n",
        "  elif numbers == 2:\n",
        "    print(str(numbers) + 'nd')\n",
        "  elif numbers == 3:\n",
        "    print(str(numbers) + 'rd')\n",
        "  else:\n",
        "    print(str(numbers) + 'th')"
      ],
      "execution_count": 5,
      "outputs": [
        {
          "output_type": "stream",
          "name": "stdout",
          "text": [
            "1st\n",
            "2nd\n",
            "3rd\n",
            "4th\n",
            "5th\n",
            "6th\n",
            "7th\n",
            "8th\n",
            "9th\n",
            "10th\n"
          ]
        }
      ]
    },
    {
      "cell_type": "code",
      "metadata": {
        "id": "vs8ppR-wlSKL"
      },
      "source": [
        ""
      ],
      "execution_count": null,
      "outputs": []
    },
    {
      "cell_type": "code",
      "metadata": {
        "id": "5mkKtxzunuqc"
      },
      "source": [
        ""
      ],
      "execution_count": null,
      "outputs": []
    },
    {
      "cell_type": "code",
      "metadata": {
        "id": "rmfPnI5onutd"
      },
      "source": [
        ""
      ],
      "execution_count": null,
      "outputs": []
    },
    {
      "cell_type": "code",
      "metadata": {
        "id": "6000qDkVnuxM"
      },
      "source": [
        ""
      ],
      "execution_count": null,
      "outputs": []
    },
    {
      "cell_type": "code",
      "metadata": {
        "id": "X2X4dTbfnu0M"
      },
      "source": [
        ""
      ],
      "execution_count": null,
      "outputs": []
    }
  ]
}