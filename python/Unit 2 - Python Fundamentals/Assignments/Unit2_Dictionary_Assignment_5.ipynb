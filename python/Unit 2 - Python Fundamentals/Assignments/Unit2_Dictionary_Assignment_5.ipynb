{
  "nbformat": 4,
  "nbformat_minor": 0,
  "metadata": {
    "colab": {
      "name": "Unit2_Dictionary_Assignment_5.ipynb",
      "provenance": [],
      "collapsed_sections": [],
      "toc_visible": true,
      "include_colab_link": true
    },
    "kernelspec": {
      "name": "python3",
      "display_name": "Python 3"
    }
  },
  "cells": [
    {
      "cell_type": "markdown",
      "metadata": {
        "id": "view-in-github",
        "colab_type": "text"
      },
      "source": [
        "<a href=\"https://colab.research.google.com/github/jlin246/Micro-credentials-Jan-2022-BSNS/blob/main/python/Unit%202%20-%20Python%20Fundamentals/Assignments/Unit2_Dictionary_Assignment_5.ipynb\" target=\"_parent\"><img src=\"https://colab.research.google.com/assets/colab-badge.svg\" alt=\"Open In Colab\"/></a>"
      ]
    },
    {
      "cell_type": "markdown",
      "metadata": {
        "id": "Vgs8Kp4TidFQ"
      },
      "source": [
        "# Intrdouction to Python - Dictionary - Assignment #5 "
      ]
    },
    {
      "cell_type": "markdown",
      "metadata": {
        "id": "_Hq7Ny79iwgD"
      },
      "source": [
        "## 1.\tCreate a simple dictionary that stores 2 variables, for example: first and last name."
      ]
    },
    {
      "cell_type": "code",
      "metadata": {
        "id": "lotvpVpvlKsR"
      },
      "source": [
        "name = {}\n",
        "name = {'first name' : 'John', 'last name' : 'Doe'}"
      ],
      "execution_count": null,
      "outputs": []
    },
    {
      "cell_type": "code",
      "metadata": {
        "id": "oNXY-CfrlLbE"
      },
      "source": [
        ""
      ],
      "execution_count": null,
      "outputs": []
    },
    {
      "cell_type": "markdown",
      "metadata": {
        "id": "io_27RSlizno"
      },
      "source": [
        "## 2.\tPrint out those variables stored in your previous dictionary. "
      ]
    },
    {
      "cell_type": "code",
      "metadata": {
        "id": "Dh1o5cAylSHB",
        "outputId": "2702f005-e460-4c4e-9825-ebf6f5eaec42",
        "colab": {
          "base_uri": "https://localhost:8080/"
        }
      },
      "source": [
        "print(name['first name'] + ' ' + name['last name'])"
      ],
      "execution_count": null,
      "outputs": [
        {
          "output_type": "stream",
          "name": "stdout",
          "text": [
            "John Doe\n"
          ]
        }
      ]
    },
    {
      "cell_type": "code",
      "metadata": {
        "id": "vs8ppR-wlSKL"
      },
      "source": [
        ""
      ],
      "execution_count": null,
      "outputs": []
    },
    {
      "cell_type": "markdown",
      "metadata": {
        "id": "DAW8m8IQjRyR"
      },
      "source": [
        "## 3.\tAdd a message to those variables on printing: for example: “Hello, firstname lastname!”"
      ]
    },
    {
      "cell_type": "code",
      "metadata": {
        "id": "guULMEhrjYtT",
        "outputId": "c8cd61cf-28f2-47a1-978c-5655335c5415",
        "colab": {
          "base_uri": "https://localhost:8080/"
        }
      },
      "source": [
        "print('Hello, ' + name['first name'] + ' ' + name['last name'])"
      ],
      "execution_count": null,
      "outputs": [
        {
          "output_type": "stream",
          "name": "stdout",
          "text": [
            "Hello, John Doe\n"
          ]
        }
      ]
    },
    {
      "cell_type": "code",
      "metadata": {
        "id": "cv946RaOjw-G"
      },
      "source": [
        ""
      ],
      "execution_count": null,
      "outputs": []
    },
    {
      "cell_type": "markdown",
      "metadata": {
        "id": "dpa_YOt4jXyo"
      },
      "source": [
        "## 4.\tCreate a dictionary that holds 2 key: value pairs:\n",
        "\n",
        "a.\tLook through your dictionary and print each pair,\n"
      ]
    },
    {
      "cell_type": "code",
      "metadata": {
        "id": "pltxfnh3iJLW",
        "outputId": "f2c9629c-09ce-48cc-923f-f793f8a05e24",
        "colab": {
          "base_uri": "https://localhost:8080/"
        }
      },
      "source": [
        "name = {}\n",
        "name = {'first name' : 'John', 'last name' : 'Doe'}\n",
        "for key, value in name.items():\n",
        "  print('Key is ' + key)\n",
        "  print('Value is ' + value + '\\n')\n"
      ],
      "execution_count": null,
      "outputs": [
        {
          "output_type": "stream",
          "name": "stdout",
          "text": [
            "Key is first name\n",
            "Value is John\n",
            "\n",
            "Key is last name\n",
            "Value is Doe\n",
            "\n"
          ]
        }
      ]
    },
    {
      "cell_type": "markdown",
      "source": [
        "## 5. Create a nested dictionary containing three dictionries- three dictionaries could be anything (favorite pets, travel locations, etc)\n",
        "\n"
      ],
      "metadata": {
        "id": "bjSKPpmubOwg"
      }
    },
    {
      "cell_type": "markdown",
      "source": [
        "5. Create a nested dictionary containing three dictionaries- these dictionaries could be anything (favorite pets, travel locations, etc)\n",
        "\n",
        "Loop through the dictionaries and print a message for each"
      ],
      "metadata": {
        "id": "4KAU-AK6azoL"
      }
    },
    {
      "cell_type": "code",
      "metadata": {
        "id": "PzH5Rcn-jwPL",
        "colab": {
          "base_uri": "https://localhost:8080/"
        },
        "outputId": "8251f091-1bf6-48af-9898-0b9677b1538e"
      },
      "source": [
        "favorite_pets_dict = {'Jake' : 'dog', \"John\" : 'cat', 'Jones' : 'rabbit'}\n",
        "travel_locations_dict = {'Jake' : 'Bahamas', 'John' : 'England', 'Jones' : 'Japan'}\n",
        "birth_city_dict = {'Jake' : 'Chicago', 'John' : 'New York', 'Jones' : 'Las Angeles'}\n",
        "nested_dict = {'favorite pets': favorite_pets_dict, 'travel locations': travel_locations_dict, 'birth city': birth_city_dict}\n",
        "\n",
        "for key, value in nested_dict.items():\n",
        "  print('\\n' + key)\n",
        "\n",
        "  for key2,value2 in value.items():\n",
        "    print(key2 + ' -> ' + value[key2])"
      ],
      "execution_count": 7,
      "outputs": [
        {
          "output_type": "stream",
          "name": "stdout",
          "text": [
            "\n",
            "favorite pets\n",
            "Jake -> dog\n",
            "John -> cat\n",
            "Jones -> rabbit\n",
            "\n",
            "travel locations\n",
            "Jake -> Bahamas\n",
            "John -> England\n",
            "Jones -> Japan\n",
            "\n",
            "birth city\n",
            "Jake -> Chicago\n",
            "John -> New York\n",
            "Jones -> Las Angeles\n"
          ]
        }
      ]
    },
    {
      "cell_type": "code",
      "metadata": {
        "id": "34IFFtK4jrg4"
      },
      "source": [
        ""
      ],
      "execution_count": null,
      "outputs": []
    },
    {
      "cell_type": "code",
      "metadata": {
        "id": "M17RfxQljvqb"
      },
      "source": [
        ""
      ],
      "execution_count": null,
      "outputs": []
    },
    {
      "cell_type": "code",
      "metadata": {
        "id": "4agTp_Cyju4-"
      },
      "source": [
        ""
      ],
      "execution_count": null,
      "outputs": []
    },
    {
      "cell_type": "code",
      "metadata": {
        "id": "jjh2GdktllZY"
      },
      "source": [
        ""
      ],
      "execution_count": null,
      "outputs": []
    },
    {
      "cell_type": "code",
      "metadata": {
        "id": "iHaRIrt8llcd"
      },
      "source": [
        ""
      ],
      "execution_count": null,
      "outputs": []
    }
  ]
}