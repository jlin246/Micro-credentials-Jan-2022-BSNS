{
  "nbformat": 4,
  "nbformat_minor": 0,
  "metadata": {
    "colab": {
      "name": "Unit2_Intro_Assignment_1.ipynb",
      "provenance": [],
      "collapsed_sections": [],
      "include_colab_link": true
    },
    "kernelspec": {
      "name": "python3",
      "display_name": "Python 3"
    }
  },
  "cells": [
    {
      "cell_type": "markdown",
      "metadata": {
        "id": "view-in-github",
        "colab_type": "text"
      },
      "source": [
        "<a href=\"https://colab.research.google.com/github/jlin246/Micro-credentials-Jan-2022-BSNS/blob/main/Unit%202%20-%20Python%20Fundamentals/Assignments/Unit2_Intro_Assignment_1.ipynb\" target=\"_parent\"><img src=\"https://colab.research.google.com/assets/colab-badge.svg\" alt=\"Open In Colab\"/></a>"
      ]
    },
    {
      "cell_type": "markdown",
      "metadata": {
        "id": "Vgs8Kp4TidFQ"
      },
      "source": [
        "# Lesson 1 - Intrdouction to Python - Assignment 1\n",
        "\n",
        "> Indented block\n",
        "\n"
      ]
    },
    {
      "cell_type": "markdown",
      "metadata": {
        "id": "_Hq7Ny79iwgD"
      },
      "source": [
        "## 1.\tWhat is Python and why is it useful?"
      ]
    },
    {
      "cell_type": "markdown",
      "metadata": {
        "id": "DBd0pMkDi0pv"
      },
      "source": [
        "Python is a programming language that was first developed by Guido Van Rossum in 1989, who designed it to be an open source scripting language that has both elements of object oriented and functional programming elements.\n",
        "\n",
        "In class, we discussed that Python is a general prupose, interpreted, interactive, object oriented, and high level programming language.\n",
        "\n",
        "It is useful in many ways:\n",
        "1. It is a strong and dynamically typed language\n",
        "2. There is a lot of users in the programming community and, thus, there is a lot of support and reliability with the language.\n",
        "3. It can support large data sets to use for data analysis.\n",
        "4. It supports both simple and complex functionality to data analysis (as simple as making graphs, and as complex as machine learning).\n",
        "5. The code can be saved and reused at a later time, ao processes can be automated and save time further down the line."
      ]
    },
    {
      "cell_type": "markdown",
      "metadata": {
        "id": "io_27RSlizno"
      },
      "source": [
        "## 2.\tAre the following variable names allowed in python?"
      ]
    },
    {
      "cell_type": "markdown",
      "metadata": {
        "id": "9_GYv9VTiqrI"
      },
      "source": [
        "a.\t1_message\n",
        "\n",
        "b.\tGreeting_message\n",
        "\n",
        "c.\tMessage_1\n",
        "\n",
        "d.\tFirst name\n",
        "\n",
        "e.\tFull_name\n",
        "\n"
      ]
    },
    {
      "cell_type": "markdown",
      "metadata": {
        "id": "b5M6t8YjjPaZ"
      },
      "source": [
        "b,c,e are allowed as variable names."
      ]
    },
    {
      "cell_type": "markdown",
      "metadata": {
        "id": "DAW8m8IQjRyR"
      },
      "source": [
        "## 3.\tCreate a variable that holds the string “hello there!”"
      ]
    },
    {
      "cell_type": "code",
      "metadata": {
        "id": "guULMEhrjYtT",
        "colab": {
          "base_uri": "https://localhost:8080/"
        },
        "outputId": "87b92908-41e5-4f75-f1da-e8bc80634f99"
      },
      "source": [
        "variable1 = \"hello there\"\n",
        "print(variable1)"
      ],
      "execution_count": null,
      "outputs": [
        {
          "output_type": "stream",
          "name": "stdout",
          "text": [
            "hello there\n"
          ]
        }
      ]
    },
    {
      "cell_type": "code",
      "metadata": {
        "id": "cv946RaOjw-G"
      },
      "source": [
        ""
      ],
      "execution_count": null,
      "outputs": []
    },
    {
      "cell_type": "markdown",
      "metadata": {
        "id": "dpa_YOt4jXyo"
      },
      "source": [
        "## 4.\tCreate a variable for first name, last name and an email extension.  Concatenating all three together to form an email address.  For example: firstnamelastname@gmail.com"
      ]
    },
    {
      "cell_type": "code",
      "metadata": {
        "id": "pltxfnh3iJLW",
        "colab": {
          "base_uri": "https://localhost:8080/"
        },
        "outputId": "be630ac6-160c-4c3f-ec74-5878323b45db"
      },
      "source": [
        "first_name = \"firstname\"\n",
        "last_name = \"lastname\"\n",
        "email_extension = \"gmail.com\"\n",
        "email_address = first_name + last_name + \"@\" + email_extension\n",
        "print(email_address)"
      ],
      "execution_count": null,
      "outputs": [
        {
          "output_type": "stream",
          "name": "stdout",
          "text": [
            "firstnamelastname@gmail.com\n"
          ]
        }
      ]
    },
    {
      "cell_type": "code",
      "metadata": {
        "id": "PzH5Rcn-jwPL"
      },
      "source": [
        ""
      ],
      "execution_count": null,
      "outputs": []
    },
    {
      "cell_type": "markdown",
      "metadata": {
        "id": "Ka84RGy4jmLT"
      },
      "source": [
        "## 5.\tStore someone you know name in a variable called name.  Print their name in lower and uppercase using a method."
      ]
    },
    {
      "cell_type": "code",
      "metadata": {
        "id": "34IFFtK4jrg4",
        "colab": {
          "base_uri": "https://localhost:8080/"
        },
        "outputId": "7aa09c43-7304-4e5b-ab72-b1a1833d0c09"
      },
      "source": [
        "name = \"firstname lastname\"\n",
        "print(name.upper())\n",
        "print(name.lower())"
      ],
      "execution_count": null,
      "outputs": [
        {
          "output_type": "stream",
          "name": "stdout",
          "text": [
            "FIRSTNAME LASTNAME\n",
            "firstname lastname\n"
          ]
        }
      ]
    },
    {
      "cell_type": "code",
      "metadata": {
        "id": "M17RfxQljvqb"
      },
      "source": [
        ""
      ],
      "execution_count": null,
      "outputs": []
    },
    {
      "cell_type": "code",
      "metadata": {
        "id": "4agTp_Cyju4-"
      },
      "source": [
        ""
      ],
      "execution_count": null,
      "outputs": []
    },
    {
      "cell_type": "markdown",
      "source": [
        "6. Using a variable, ask a friend if they want to hang out on the 15th of the month. For example, 'Do you want to hang out on the 15th of this month?'\n",
        "\n",
        "You should have to convert the number to a string."
      ],
      "metadata": {
        "id": "8nfmznd0IZ-1"
      }
    },
    {
      "cell_type": "code",
      "source": [
        "question = 'Do you want to hang out on the '\n",
        "question2 = 'th of this month?'\n",
        "number = 15\n",
        "\n",
        "print(question + str(number) + question2)\n",
        "\n",
        "question = 'Do you want to hang out on the {}th of this month?'\n",
        "print(question.format(number))"
      ],
      "metadata": {
        "id": "XZLbsoxvItIb",
        "outputId": "a41bdff3-c084-440d-8582-8eb5ebfb54fa",
        "colab": {
          "base_uri": "https://localhost:8080/"
        }
      },
      "execution_count": 3,
      "outputs": [
        {
          "output_type": "stream",
          "name": "stdout",
          "text": [
            "Do you want to hang out on the 15th of this month?\n",
            "Do you want to hang out on the 15th of this month?\n"
          ]
        }
      ]
    }
  ]
}
