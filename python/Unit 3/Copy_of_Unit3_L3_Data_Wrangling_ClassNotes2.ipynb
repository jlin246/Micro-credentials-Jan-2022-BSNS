{
  "nbformat": 4,
  "nbformat_minor": 0,
  "metadata": {
    "colab": {
      "name": "Copy of Unit3_L3_Data_Wrangling_ClassNotes.ipynb",
      "provenance": [],
      "collapsed_sections": [
        "TS123voCEiFo"
      ],
      "include_colab_link": true
    },
    "kernelspec": {
      "name": "python3",
      "display_name": "Python 3"
    }
  },
  "cells": [
    {
      "cell_type": "markdown",
      "metadata": {
        "id": "view-in-github",
        "colab_type": "text"
      },
      "source": [
        "<a href=\"https://colab.research.google.com/github/jlin246/Micro-credentials-Jan-2022-BSNS/blob/main/python/Unit%203/Copy_of_Unit3_L3_Data_Wrangling_ClassNotes2.ipynb\" target=\"_parent\"><img src=\"https://colab.research.google.com/assets/colab-badge.svg\" alt=\"Open In Colab\"/></a>"
      ]
    },
    {
      "cell_type": "markdown",
      "metadata": {
        "id": "W0NJQJwwkOYC"
      },
      "source": [
        "# Lesson 3"
      ]
    },
    {
      "cell_type": "code",
      "metadata": {
        "id": "g7NMEBgNhj9r"
      },
      "source": [
        "import pandas as pd\n",
        "import numpy as np"
      ],
      "execution_count": null,
      "outputs": []
    },
    {
      "cell_type": "code",
      "metadata": {
        "id": "oP5ccUFIlSM1"
      },
      "source": [
        "book_df =pd.read_csv('https://raw.githubusercontent.com/CunyLaguardiaDataAnalytics/datasets/master/BL-Flickr-Images-Book.csv')"
      ],
      "execution_count": null,
      "outputs": []
    },
    {
      "cell_type": "code",
      "metadata": {
        "id": "3_U3xRJkol5U",
        "colab": {
          "base_uri": "https://localhost:8080/",
          "height": 35
        },
        "outputId": "3ffbfc71-fdd3-4a07-9e3a-15cc9a7cce90"
      },
      "source": [
        "book_df.shape"
      ],
      "execution_count": null,
      "outputs": [
        {
          "output_type": "execute_result",
          "data": {
            "text/plain": [
              "(8287, 15)"
            ]
          },
          "metadata": {
            "tags": []
          },
          "execution_count": 3
        }
      ]
    },
    {
      "cell_type": "code",
      "metadata": {
        "id": "mMDG9sNyopNL",
        "colab": {
          "base_uri": "https://localhost:8080/",
          "height": 294
        },
        "outputId": "207e9226-dfb3-4977-a7f3-d19657190571"
      },
      "source": [
        "book_df.describe()"
      ],
      "execution_count": null,
      "outputs": [
        {
          "output_type": "execute_result",
          "data": {
            "text/html": [
              "<div>\n",
              "<style scoped>\n",
              "    .dataframe tbody tr th:only-of-type {\n",
              "        vertical-align: middle;\n",
              "    }\n",
              "\n",
              "    .dataframe tbody tr th {\n",
              "        vertical-align: top;\n",
              "    }\n",
              "\n",
              "    .dataframe thead th {\n",
              "        text-align: right;\n",
              "    }\n",
              "</style>\n",
              "<table border=\"1\" class=\"dataframe\">\n",
              "  <thead>\n",
              "    <tr style=\"text-align: right;\">\n",
              "      <th></th>\n",
              "      <th>Identifier</th>\n",
              "      <th>Corporate Author</th>\n",
              "      <th>Corporate Contributors</th>\n",
              "      <th>Engraver</th>\n",
              "    </tr>\n",
              "  </thead>\n",
              "  <tbody>\n",
              "    <tr>\n",
              "      <th>count</th>\n",
              "      <td>8.287000e+03</td>\n",
              "      <td>0.0</td>\n",
              "      <td>0.0</td>\n",
              "      <td>0.0</td>\n",
              "    </tr>\n",
              "    <tr>\n",
              "      <th>mean</th>\n",
              "      <td>2.017344e+06</td>\n",
              "      <td>NaN</td>\n",
              "      <td>NaN</td>\n",
              "      <td>NaN</td>\n",
              "    </tr>\n",
              "    <tr>\n",
              "      <th>std</th>\n",
              "      <td>1.190379e+06</td>\n",
              "      <td>NaN</td>\n",
              "      <td>NaN</td>\n",
              "      <td>NaN</td>\n",
              "    </tr>\n",
              "    <tr>\n",
              "      <th>min</th>\n",
              "      <td>2.060000e+02</td>\n",
              "      <td>NaN</td>\n",
              "      <td>NaN</td>\n",
              "      <td>NaN</td>\n",
              "    </tr>\n",
              "    <tr>\n",
              "      <th>25%</th>\n",
              "      <td>9.157875e+05</td>\n",
              "      <td>NaN</td>\n",
              "      <td>NaN</td>\n",
              "      <td>NaN</td>\n",
              "    </tr>\n",
              "    <tr>\n",
              "      <th>50%</th>\n",
              "      <td>2.043707e+06</td>\n",
              "      <td>NaN</td>\n",
              "      <td>NaN</td>\n",
              "      <td>NaN</td>\n",
              "    </tr>\n",
              "    <tr>\n",
              "      <th>75%</th>\n",
              "      <td>3.047430e+06</td>\n",
              "      <td>NaN</td>\n",
              "      <td>NaN</td>\n",
              "      <td>NaN</td>\n",
              "    </tr>\n",
              "    <tr>\n",
              "      <th>max</th>\n",
              "      <td>4.160339e+06</td>\n",
              "      <td>NaN</td>\n",
              "      <td>NaN</td>\n",
              "      <td>NaN</td>\n",
              "    </tr>\n",
              "  </tbody>\n",
              "</table>\n",
              "</div>"
            ],
            "text/plain": [
              "         Identifier  Corporate Author  Corporate Contributors  Engraver\n",
              "count  8.287000e+03               0.0                     0.0       0.0\n",
              "mean   2.017344e+06               NaN                     NaN       NaN\n",
              "std    1.190379e+06               NaN                     NaN       NaN\n",
              "min    2.060000e+02               NaN                     NaN       NaN\n",
              "25%    9.157875e+05               NaN                     NaN       NaN\n",
              "50%    2.043707e+06               NaN                     NaN       NaN\n",
              "75%    3.047430e+06               NaN                     NaN       NaN\n",
              "max    4.160339e+06               NaN                     NaN       NaN"
            ]
          },
          "metadata": {
            "tags": []
          },
          "execution_count": 5
        }
      ]
    },
    {
      "cell_type": "code",
      "metadata": {
        "id": "uM1d6koUosxV",
        "colab": {
          "base_uri": "https://localhost:8080/",
          "height": 517
        },
        "outputId": "97452539-d4a5-4706-a594-27e204ac734f"
      },
      "source": [
        "book_df.head()"
      ],
      "execution_count": null,
      "outputs": [
        {
          "output_type": "execute_result",
          "data": {
            "text/html": [
              "<div>\n",
              "<style scoped>\n",
              "    .dataframe tbody tr th:only-of-type {\n",
              "        vertical-align: middle;\n",
              "    }\n",
              "\n",
              "    .dataframe tbody tr th {\n",
              "        vertical-align: top;\n",
              "    }\n",
              "\n",
              "    .dataframe thead th {\n",
              "        text-align: right;\n",
              "    }\n",
              "</style>\n",
              "<table border=\"1\" class=\"dataframe\">\n",
              "  <thead>\n",
              "    <tr style=\"text-align: right;\">\n",
              "      <th></th>\n",
              "      <th>Identifier</th>\n",
              "      <th>Edition Statement</th>\n",
              "      <th>Place of Publication</th>\n",
              "      <th>Date of Publication</th>\n",
              "      <th>Publisher</th>\n",
              "      <th>Title</th>\n",
              "      <th>Author</th>\n",
              "      <th>Contributors</th>\n",
              "      <th>Corporate Author</th>\n",
              "      <th>Corporate Contributors</th>\n",
              "      <th>Former owner</th>\n",
              "      <th>Engraver</th>\n",
              "      <th>Issuance type</th>\n",
              "      <th>Flickr URL</th>\n",
              "      <th>Shelfmarks</th>\n",
              "    </tr>\n",
              "  </thead>\n",
              "  <tbody>\n",
              "    <tr>\n",
              "      <th>0</th>\n",
              "      <td>206</td>\n",
              "      <td>NaN</td>\n",
              "      <td>London</td>\n",
              "      <td>1879 [1878]</td>\n",
              "      <td>S. Tinsley &amp; Co.</td>\n",
              "      <td>Walter Forbes. [A novel.] By A. A</td>\n",
              "      <td>A. A.</td>\n",
              "      <td>FORBES, Walter.</td>\n",
              "      <td>NaN</td>\n",
              "      <td>NaN</td>\n",
              "      <td>NaN</td>\n",
              "      <td>NaN</td>\n",
              "      <td>monographic</td>\n",
              "      <td>http://www.flickr.com/photos/britishlibrary/ta...</td>\n",
              "      <td>British Library HMNTS 12641.b.30.</td>\n",
              "    </tr>\n",
              "    <tr>\n",
              "      <th>1</th>\n",
              "      <td>216</td>\n",
              "      <td>NaN</td>\n",
              "      <td>London; Virtue &amp; Yorston</td>\n",
              "      <td>1868</td>\n",
              "      <td>Virtue &amp; Co.</td>\n",
              "      <td>All for Greed. [A novel. The dedication signed...</td>\n",
              "      <td>A., A. A.</td>\n",
              "      <td>BLAZE DE BURY, Marie Pauline Rose - Baroness</td>\n",
              "      <td>NaN</td>\n",
              "      <td>NaN</td>\n",
              "      <td>NaN</td>\n",
              "      <td>NaN</td>\n",
              "      <td>monographic</td>\n",
              "      <td>http://www.flickr.com/photos/britishlibrary/ta...</td>\n",
              "      <td>British Library HMNTS 12626.cc.2.</td>\n",
              "    </tr>\n",
              "    <tr>\n",
              "      <th>2</th>\n",
              "      <td>218</td>\n",
              "      <td>NaN</td>\n",
              "      <td>London</td>\n",
              "      <td>1869</td>\n",
              "      <td>Bradbury, Evans &amp; Co.</td>\n",
              "      <td>Love the Avenger. By the author of “All for Gr...</td>\n",
              "      <td>A., A. A.</td>\n",
              "      <td>BLAZE DE BURY, Marie Pauline Rose - Baroness</td>\n",
              "      <td>NaN</td>\n",
              "      <td>NaN</td>\n",
              "      <td>NaN</td>\n",
              "      <td>NaN</td>\n",
              "      <td>monographic</td>\n",
              "      <td>http://www.flickr.com/photos/britishlibrary/ta...</td>\n",
              "      <td>British Library HMNTS 12625.dd.1.</td>\n",
              "    </tr>\n",
              "    <tr>\n",
              "      <th>3</th>\n",
              "      <td>472</td>\n",
              "      <td>NaN</td>\n",
              "      <td>London</td>\n",
              "      <td>1851</td>\n",
              "      <td>James Darling</td>\n",
              "      <td>Welsh Sketches, chiefly ecclesiastical, to the...</td>\n",
              "      <td>A., E. S.</td>\n",
              "      <td>Appleyard, Ernest Silvanus.</td>\n",
              "      <td>NaN</td>\n",
              "      <td>NaN</td>\n",
              "      <td>NaN</td>\n",
              "      <td>NaN</td>\n",
              "      <td>monographic</td>\n",
              "      <td>http://www.flickr.com/photos/britishlibrary/ta...</td>\n",
              "      <td>British Library HMNTS 10369.bbb.15.</td>\n",
              "    </tr>\n",
              "    <tr>\n",
              "      <th>4</th>\n",
              "      <td>480</td>\n",
              "      <td>A new edition, revised, etc.</td>\n",
              "      <td>London</td>\n",
              "      <td>1857</td>\n",
              "      <td>Wertheim &amp; Macintosh</td>\n",
              "      <td>[The World in which I live, and my place in it...</td>\n",
              "      <td>A., E. S.</td>\n",
              "      <td>BROOME, John Henry.</td>\n",
              "      <td>NaN</td>\n",
              "      <td>NaN</td>\n",
              "      <td>NaN</td>\n",
              "      <td>NaN</td>\n",
              "      <td>monographic</td>\n",
              "      <td>http://www.flickr.com/photos/britishlibrary/ta...</td>\n",
              "      <td>British Library HMNTS 9007.d.28.</td>\n",
              "    </tr>\n",
              "  </tbody>\n",
              "</table>\n",
              "</div>"
            ],
            "text/plain": [
              "   Identifier  ...                           Shelfmarks\n",
              "0         206  ...    British Library HMNTS 12641.b.30.\n",
              "1         216  ...    British Library HMNTS 12626.cc.2.\n",
              "2         218  ...    British Library HMNTS 12625.dd.1.\n",
              "3         472  ...  British Library HMNTS 10369.bbb.15.\n",
              "4         480  ...     British Library HMNTS 9007.d.28.\n",
              "\n",
              "[5 rows x 15 columns]"
            ]
          },
          "metadata": {
            "tags": []
          },
          "execution_count": 6
        }
      ]
    },
    {
      "cell_type": "code",
      "metadata": {
        "id": "WHl2DQidoxGy",
        "colab": {
          "base_uri": "https://localhost:8080/",
          "height": 104
        },
        "outputId": "f8a464a8-9a72-4523-c277-a863cc3ce867"
      },
      "source": [
        "book_df.columns"
      ],
      "execution_count": null,
      "outputs": [
        {
          "output_type": "execute_result",
          "data": {
            "text/plain": [
              "Index(['Identifier', 'Edition Statement', 'Place of Publication',\n",
              "       'Date of Publication', 'Publisher', 'Title', 'Author', 'Contributors',\n",
              "       'Corporate Author', 'Corporate Contributors', 'Former owner',\n",
              "       'Engraver', 'Issuance type', 'Flickr URL', 'Shelfmarks'],\n",
              "      dtype='object')"
            ]
          },
          "metadata": {
            "tags": []
          },
          "execution_count": 7
        }
      ]
    },
    {
      "cell_type": "code",
      "metadata": {
        "id": "I2RRnWtlvluI"
      },
      "source": [
        ""
      ],
      "execution_count": null,
      "outputs": []
    },
    {
      "cell_type": "markdown",
      "metadata": {
        "id": "89cfqWI2vmgu"
      },
      "source": [
        "Data Background Information "
      ]
    },
    {
      "cell_type": "markdown",
      "metadata": {
        "id": "WErP-KngupG7"
      },
      "source": [
        "After exploring dataset we found that there are 8K+ data points and 12 features. Once I looked at the features I could not find anything significant with below columns. So, I decided to get rid of those columns to trim down the scope of my data analysis work. "
      ]
    },
    {
      "cell_type": "code",
      "metadata": {
        "id": "XDMKQD3Dqa_m"
      },
      "source": [
        "columns_to_be_dropped = ['Edition Statement','Corporate Author', 'Corporate Contributors', 'Former owner','Engraver']"
      ],
      "execution_count": null,
      "outputs": []
    },
    {
      "cell_type": "code",
      "metadata": {
        "id": "BFXQ8rq_rrxg",
        "colab": {
          "base_uri": "https://localhost:8080/",
          "height": 35
        },
        "outputId": "708e1258-8c64-4482-906e-0ebe11d4a606"
      },
      "source": [
        "type(columns_to_be_dropped)"
      ],
      "execution_count": null,
      "outputs": [
        {
          "output_type": "execute_result",
          "data": {
            "text/plain": [
              "list"
            ]
          },
          "metadata": {
            "tags": []
          },
          "execution_count": 10
        }
      ]
    },
    {
      "cell_type": "code",
      "metadata": {
        "id": "PVOT2cfWqGKS"
      },
      "source": [
        "new_book_df = book_df.drop(columns_to_be_dropped, axis=1)"
      ],
      "execution_count": null,
      "outputs": []
    },
    {
      "cell_type": "code",
      "metadata": {
        "id": "jc7dsZBRr71g",
        "colab": {
          "base_uri": "https://localhost:8080/",
          "height": 497
        },
        "outputId": "9bad4bf5-c579-4f25-979d-05984d0b4ca4"
      },
      "source": [
        "new_book_df.head()"
      ],
      "execution_count": null,
      "outputs": [
        {
          "output_type": "execute_result",
          "data": {
            "text/html": [
              "<div>\n",
              "<style scoped>\n",
              "    .dataframe tbody tr th:only-of-type {\n",
              "        vertical-align: middle;\n",
              "    }\n",
              "\n",
              "    .dataframe tbody tr th {\n",
              "        vertical-align: top;\n",
              "    }\n",
              "\n",
              "    .dataframe thead th {\n",
              "        text-align: right;\n",
              "    }\n",
              "</style>\n",
              "<table border=\"1\" class=\"dataframe\">\n",
              "  <thead>\n",
              "    <tr style=\"text-align: right;\">\n",
              "      <th></th>\n",
              "      <th>Identifier</th>\n",
              "      <th>Place of Publication</th>\n",
              "      <th>Date of Publication</th>\n",
              "      <th>Publisher</th>\n",
              "      <th>Title</th>\n",
              "      <th>Author</th>\n",
              "      <th>Contributors</th>\n",
              "      <th>Issuance type</th>\n",
              "      <th>Flickr URL</th>\n",
              "      <th>Shelfmarks</th>\n",
              "    </tr>\n",
              "  </thead>\n",
              "  <tbody>\n",
              "    <tr>\n",
              "      <th>0</th>\n",
              "      <td>206</td>\n",
              "      <td>London</td>\n",
              "      <td>1879 [1878]</td>\n",
              "      <td>S. Tinsley &amp; Co.</td>\n",
              "      <td>Walter Forbes. [A novel.] By A. A</td>\n",
              "      <td>A. A.</td>\n",
              "      <td>FORBES, Walter.</td>\n",
              "      <td>monographic</td>\n",
              "      <td>http://www.flickr.com/photos/britishlibrary/ta...</td>\n",
              "      <td>British Library HMNTS 12641.b.30.</td>\n",
              "    </tr>\n",
              "    <tr>\n",
              "      <th>1</th>\n",
              "      <td>216</td>\n",
              "      <td>London; Virtue &amp; Yorston</td>\n",
              "      <td>1868</td>\n",
              "      <td>Virtue &amp; Co.</td>\n",
              "      <td>All for Greed. [A novel. The dedication signed...</td>\n",
              "      <td>A., A. A.</td>\n",
              "      <td>BLAZE DE BURY, Marie Pauline Rose - Baroness</td>\n",
              "      <td>monographic</td>\n",
              "      <td>http://www.flickr.com/photos/britishlibrary/ta...</td>\n",
              "      <td>British Library HMNTS 12626.cc.2.</td>\n",
              "    </tr>\n",
              "    <tr>\n",
              "      <th>2</th>\n",
              "      <td>218</td>\n",
              "      <td>London</td>\n",
              "      <td>1869</td>\n",
              "      <td>Bradbury, Evans &amp; Co.</td>\n",
              "      <td>Love the Avenger. By the author of “All for Gr...</td>\n",
              "      <td>A., A. A.</td>\n",
              "      <td>BLAZE DE BURY, Marie Pauline Rose - Baroness</td>\n",
              "      <td>monographic</td>\n",
              "      <td>http://www.flickr.com/photos/britishlibrary/ta...</td>\n",
              "      <td>British Library HMNTS 12625.dd.1.</td>\n",
              "    </tr>\n",
              "    <tr>\n",
              "      <th>3</th>\n",
              "      <td>472</td>\n",
              "      <td>London</td>\n",
              "      <td>1851</td>\n",
              "      <td>James Darling</td>\n",
              "      <td>Welsh Sketches, chiefly ecclesiastical, to the...</td>\n",
              "      <td>A., E. S.</td>\n",
              "      <td>Appleyard, Ernest Silvanus.</td>\n",
              "      <td>monographic</td>\n",
              "      <td>http://www.flickr.com/photos/britishlibrary/ta...</td>\n",
              "      <td>British Library HMNTS 10369.bbb.15.</td>\n",
              "    </tr>\n",
              "    <tr>\n",
              "      <th>4</th>\n",
              "      <td>480</td>\n",
              "      <td>London</td>\n",
              "      <td>1857</td>\n",
              "      <td>Wertheim &amp; Macintosh</td>\n",
              "      <td>[The World in which I live, and my place in it...</td>\n",
              "      <td>A., E. S.</td>\n",
              "      <td>BROOME, John Henry.</td>\n",
              "      <td>monographic</td>\n",
              "      <td>http://www.flickr.com/photos/britishlibrary/ta...</td>\n",
              "      <td>British Library HMNTS 9007.d.28.</td>\n",
              "    </tr>\n",
              "  </tbody>\n",
              "</table>\n",
              "</div>"
            ],
            "text/plain": [
              "   Identifier  ...                           Shelfmarks\n",
              "0         206  ...    British Library HMNTS 12641.b.30.\n",
              "1         216  ...    British Library HMNTS 12626.cc.2.\n",
              "2         218  ...    British Library HMNTS 12625.dd.1.\n",
              "3         472  ...  British Library HMNTS 10369.bbb.15.\n",
              "4         480  ...     British Library HMNTS 9007.d.28.\n",
              "\n",
              "[5 rows x 10 columns]"
            ]
          },
          "metadata": {
            "tags": []
          },
          "execution_count": 12
        }
      ]
    },
    {
      "cell_type": "markdown",
      "metadata": {
        "id": "LtKk1Vwuv50s"
      },
      "source": [
        "I recognized 'Identifier' as an unique key using which any book can be uniquely idetified. So, I chose to make it an index for my new data subset"
      ]
    },
    {
      "cell_type": "code",
      "metadata": {
        "id": "2rabyltGsNYk"
      },
      "source": [
        "book_reindexed_df =  new_book_df.set_index('Identifier')"
      ],
      "execution_count": null,
      "outputs": []
    },
    {
      "cell_type": "code",
      "metadata": {
        "id": "4yVRL1q_tA70",
        "colab": {
          "base_uri": "https://localhost:8080/",
          "height": 510
        },
        "outputId": "86c27288-9e33-4ef0-daf4-9324145ebe13"
      },
      "source": [
        "book_reindexed_df.head()"
      ],
      "execution_count": null,
      "outputs": [
        {
          "output_type": "execute_result",
          "data": {
            "text/html": [
              "<div>\n",
              "<style scoped>\n",
              "    .dataframe tbody tr th:only-of-type {\n",
              "        vertical-align: middle;\n",
              "    }\n",
              "\n",
              "    .dataframe tbody tr th {\n",
              "        vertical-align: top;\n",
              "    }\n",
              "\n",
              "    .dataframe thead th {\n",
              "        text-align: right;\n",
              "    }\n",
              "</style>\n",
              "<table border=\"1\" class=\"dataframe\">\n",
              "  <thead>\n",
              "    <tr style=\"text-align: right;\">\n",
              "      <th></th>\n",
              "      <th>Place of Publication</th>\n",
              "      <th>Date of Publication</th>\n",
              "      <th>Publisher</th>\n",
              "      <th>Title</th>\n",
              "      <th>Author</th>\n",
              "      <th>Contributors</th>\n",
              "      <th>Issuance type</th>\n",
              "      <th>Flickr URL</th>\n",
              "      <th>Shelfmarks</th>\n",
              "    </tr>\n",
              "    <tr>\n",
              "      <th>Identifier</th>\n",
              "      <th></th>\n",
              "      <th></th>\n",
              "      <th></th>\n",
              "      <th></th>\n",
              "      <th></th>\n",
              "      <th></th>\n",
              "      <th></th>\n",
              "      <th></th>\n",
              "      <th></th>\n",
              "    </tr>\n",
              "  </thead>\n",
              "  <tbody>\n",
              "    <tr>\n",
              "      <th>206</th>\n",
              "      <td>London</td>\n",
              "      <td>1879 [1878]</td>\n",
              "      <td>S. Tinsley &amp; Co.</td>\n",
              "      <td>Walter Forbes. [A novel.] By A. A</td>\n",
              "      <td>A. A.</td>\n",
              "      <td>FORBES, Walter.</td>\n",
              "      <td>monographic</td>\n",
              "      <td>http://www.flickr.com/photos/britishlibrary/ta...</td>\n",
              "      <td>British Library HMNTS 12641.b.30.</td>\n",
              "    </tr>\n",
              "    <tr>\n",
              "      <th>216</th>\n",
              "      <td>London; Virtue &amp; Yorston</td>\n",
              "      <td>1868</td>\n",
              "      <td>Virtue &amp; Co.</td>\n",
              "      <td>All for Greed. [A novel. The dedication signed...</td>\n",
              "      <td>A., A. A.</td>\n",
              "      <td>BLAZE DE BURY, Marie Pauline Rose - Baroness</td>\n",
              "      <td>monographic</td>\n",
              "      <td>http://www.flickr.com/photos/britishlibrary/ta...</td>\n",
              "      <td>British Library HMNTS 12626.cc.2.</td>\n",
              "    </tr>\n",
              "    <tr>\n",
              "      <th>218</th>\n",
              "      <td>London</td>\n",
              "      <td>1869</td>\n",
              "      <td>Bradbury, Evans &amp; Co.</td>\n",
              "      <td>Love the Avenger. By the author of “All for Gr...</td>\n",
              "      <td>A., A. A.</td>\n",
              "      <td>BLAZE DE BURY, Marie Pauline Rose - Baroness</td>\n",
              "      <td>monographic</td>\n",
              "      <td>http://www.flickr.com/photos/britishlibrary/ta...</td>\n",
              "      <td>British Library HMNTS 12625.dd.1.</td>\n",
              "    </tr>\n",
              "    <tr>\n",
              "      <th>472</th>\n",
              "      <td>London</td>\n",
              "      <td>1851</td>\n",
              "      <td>James Darling</td>\n",
              "      <td>Welsh Sketches, chiefly ecclesiastical, to the...</td>\n",
              "      <td>A., E. S.</td>\n",
              "      <td>Appleyard, Ernest Silvanus.</td>\n",
              "      <td>monographic</td>\n",
              "      <td>http://www.flickr.com/photos/britishlibrary/ta...</td>\n",
              "      <td>British Library HMNTS 10369.bbb.15.</td>\n",
              "    </tr>\n",
              "    <tr>\n",
              "      <th>480</th>\n",
              "      <td>London</td>\n",
              "      <td>1857</td>\n",
              "      <td>Wertheim &amp; Macintosh</td>\n",
              "      <td>[The World in which I live, and my place in it...</td>\n",
              "      <td>A., E. S.</td>\n",
              "      <td>BROOME, John Henry.</td>\n",
              "      <td>monographic</td>\n",
              "      <td>http://www.flickr.com/photos/britishlibrary/ta...</td>\n",
              "      <td>British Library HMNTS 9007.d.28.</td>\n",
              "    </tr>\n",
              "  </tbody>\n",
              "</table>\n",
              "</div>"
            ],
            "text/plain": [
              "                Place of Publication  ...                           Shelfmarks\n",
              "Identifier                            ...                                     \n",
              "206                           London  ...    British Library HMNTS 12641.b.30.\n",
              "216         London; Virtue & Yorston  ...    British Library HMNTS 12626.cc.2.\n",
              "218                           London  ...    British Library HMNTS 12625.dd.1.\n",
              "472                           London  ...  British Library HMNTS 10369.bbb.15.\n",
              "480                           London  ...     British Library HMNTS 9007.d.28.\n",
              "\n",
              "[5 rows x 9 columns]"
            ]
          },
          "metadata": {
            "tags": []
          },
          "execution_count": 17
        }
      ]
    },
    {
      "cell_type": "code",
      "metadata": {
        "id": "dTEHo1BDtGr5",
        "colab": {
          "base_uri": "https://localhost:8080/",
          "height": 35
        },
        "outputId": "ff09ff0a-c778-442a-e1bf-5d4425cd34e1"
      },
      "source": [
        "type(book_reindexed_df)"
      ],
      "execution_count": null,
      "outputs": [
        {
          "output_type": "execute_result",
          "data": {
            "text/plain": [
              "pandas.core.frame.DataFrame"
            ]
          },
          "metadata": {
            "tags": []
          },
          "execution_count": 18
        }
      ]
    },
    {
      "cell_type": "markdown",
      "metadata": {
        "id": "90EciRUSqd80"
      },
      "source": [
        "Frame Research Questions"
      ]
    },
    {
      "cell_type": "code",
      "metadata": {
        "id": "yM-OwbK0tsqH"
      },
      "source": [
        "#year YYYY - 2020, 1979, 1923\n",
        "#month MM - 09, 12, 03\n",
        "#day DD  - 11, 22, 31"
      ],
      "execution_count": null,
      "outputs": []
    },
    {
      "cell_type": "code",
      "metadata": {
        "id": "4LydC9j8ypK1"
      },
      "source": [
        "regex_val = r'^(\\d{4})'"
      ],
      "execution_count": null,
      "outputs": []
    },
    {
      "cell_type": "code",
      "metadata": {
        "id": "sUQyOEk1y5QW",
        "colab": {
          "base_uri": "https://localhost:8080/",
          "height": 35
        },
        "outputId": "6602907d-9553-4928-97d3-f3c8dc65e086"
      },
      "source": [
        "regex_val"
      ],
      "execution_count": null,
      "outputs": [
        {
          "output_type": "execute_result",
          "data": {
            "application/vnd.google.colaboratory.intrinsic+json": {
              "type": "string"
            },
            "text/plain": [
              "'^(\\\\d{4})'"
            ]
          },
          "metadata": {
            "tags": []
          },
          "execution_count": 23
        }
      ]
    },
    {
      "cell_type": "code",
      "metadata": {
        "id": "qopepzhsy6q7",
        "colab": {
          "base_uri": "https://localhost:8080/",
          "height": 243
        },
        "outputId": "0b00d360-41ab-4538-d050-d0519d39b008"
      },
      "source": [
        "book_reindexed_df['Date of Publication'].str.isnumeric()"
      ],
      "execution_count": null,
      "outputs": [
        {
          "output_type": "execute_result",
          "data": {
            "text/plain": [
              "Identifier\n",
              "206        False\n",
              "216         True\n",
              "218         True\n",
              "472         True\n",
              "480         True\n",
              "           ...  \n",
              "4158088     True\n",
              "4158128    False\n",
              "4159563    False\n",
              "4159587     True\n",
              "4160339    False\n",
              "Name: Date of Publication, Length: 8287, dtype: object"
            ]
          },
          "metadata": {
            "tags": []
          },
          "execution_count": 26
        }
      ]
    },
    {
      "cell_type": "code",
      "metadata": {
        "id": "mspY6m8hzJ72",
        "colab": {
          "base_uri": "https://localhost:8080/",
          "height": 191
        },
        "outputId": "ba4d9e6d-f643-418a-bd7a-e2ec77fe9cac"
      },
      "source": [
        "book_reindexed_df.loc[206]"
      ],
      "execution_count": null,
      "outputs": [
        {
          "output_type": "execute_result",
          "data": {
            "text/plain": [
              "Place of Publication                                               London\n",
              "Date of Publication                                           1879 [1878]\n",
              "Publisher                                                S. Tinsley & Co.\n",
              "Title                                   Walter Forbes. [A novel.] By A. A\n",
              "Author                                                              A. A.\n",
              "Contributors                                              FORBES, Walter.\n",
              "Issuance type                                                 monographic\n",
              "Flickr URL              http://www.flickr.com/photos/britishlibrary/ta...\n",
              "Shelfmarks                              British Library HMNTS 12641.b.30.\n",
              "Name: 206, dtype: object"
            ]
          },
          "metadata": {
            "tags": []
          },
          "execution_count": 29
        }
      ]
    },
    {
      "cell_type": "code",
      "metadata": {
        "id": "kpEe01kMzpeZ",
        "colab": {
          "base_uri": "https://localhost:8080/",
          "height": 191
        },
        "outputId": "38641d2a-e13f-4a9a-9c78-10801881bd29"
      },
      "source": [
        "book_reindexed_df.loc[4158128]"
      ],
      "execution_count": null,
      "outputs": [
        {
          "output_type": "execute_result",
          "data": {
            "text/plain": [
              "Place of Publication                                                Derby\n",
              "Date of Publication                                              1831, 32\n",
              "Publisher                                                 M. Mozley & Son\n",
              "Title                   The History and Gazetteer of the County of Der...\n",
              "Author                                         GLOVER, Stephen - of Derby\n",
              "Contributors                                               NOBLE, Thomas.\n",
              "Issuance type                                                 monographic\n",
              "Flickr URL              http://www.flickr.com/photos/britishlibrary/ta...\n",
              "Shelfmarks              British Library HMNTS|British Library HMNTS 10...\n",
              "Name: 4158128, dtype: object"
            ]
          },
          "metadata": {
            "tags": []
          },
          "execution_count": 30
        }
      ]
    },
    {
      "cell_type": "code",
      "metadata": {
        "id": "vivEypNY0uvb",
        "colab": {
          "base_uri": "https://localhost:8080/",
          "height": 191
        },
        "outputId": "600fb3b4-bc15-4757-e78e-cc330d0d3a00"
      },
      "source": [
        "book_reindexed_df.loc[4159563]"
      ],
      "execution_count": null,
      "outputs": [
        {
          "output_type": "execute_result",
          "data": {
            "text/plain": [
              "Place of Publication                                               London\n",
              "Date of Publication                                             [1806]-22\n",
              "Publisher                                         T. Cadell and W. Davies\n",
              "Title                   Magna Britannia; being a concise topographical...\n",
              "Author                  LYSONS, Daniel - M.A., F.R.S., and LYSONS (Sam...\n",
              "Contributors                     GREGSON, Matthew.|LYSONS, Samuel - F.R.S\n",
              "Issuance type                                                 monographic\n",
              "Flickr URL              http://www.flickr.com/photos/britishlibrary/ta...\n",
              "Shelfmarks              British Library HMNTS|British Library HMNTS 19...\n",
              "Name: 4159563, dtype: object"
            ]
          },
          "metadata": {
            "tags": []
          },
          "execution_count": 31
        }
      ]
    },
    {
      "cell_type": "markdown",
      "metadata": {
        "id": "9lumsVGM13fp"
      },
      "source": [
        "Now, let's fix the 'date of publication' value"
      ]
    },
    {
      "cell_type": "code",
      "metadata": {
        "id": "w31lDbqw04bn"
      },
      "source": [
        "book_reindexed_df['Date of Publication'] = book_reindexed_df['Date of Publication'].str.extract(regex_val, expand= False)"
      ],
      "execution_count": null,
      "outputs": []
    },
    {
      "cell_type": "code",
      "metadata": {
        "id": "l1RWsReq2_Bn",
        "colab": {
          "base_uri": "https://localhost:8080/",
          "height": 243
        },
        "outputId": "e852862b-14be-4ea8-a313-68ee72abe6e2"
      },
      "source": [
        "book_reindexed_df['Date of Publication']"
      ],
      "execution_count": null,
      "outputs": [
        {
          "output_type": "execute_result",
          "data": {
            "text/plain": [
              "Identifier\n",
              "206        1879\n",
              "216        1868\n",
              "218        1869\n",
              "472        1851\n",
              "480        1857\n",
              "           ... \n",
              "4158088    1838\n",
              "4158128    1831\n",
              "4159563     NaN\n",
              "4159587    1834\n",
              "4160339    1834\n",
              "Name: Date of Publication, Length: 8287, dtype: object"
            ]
          },
          "metadata": {
            "tags": []
          },
          "execution_count": 33
        }
      ]
    },
    {
      "cell_type": "code",
      "metadata": {
        "id": "sQhOae583CD1",
        "colab": {
          "base_uri": "https://localhost:8080/",
          "height": 510
        },
        "outputId": "3a77fcae-4b6f-4a55-f255-af33c18ea6c9"
      },
      "source": [
        "book_reindexed_df.head()"
      ],
      "execution_count": null,
      "outputs": [
        {
          "output_type": "execute_result",
          "data": {
            "text/html": [
              "<div>\n",
              "<style scoped>\n",
              "    .dataframe tbody tr th:only-of-type {\n",
              "        vertical-align: middle;\n",
              "    }\n",
              "\n",
              "    .dataframe tbody tr th {\n",
              "        vertical-align: top;\n",
              "    }\n",
              "\n",
              "    .dataframe thead th {\n",
              "        text-align: right;\n",
              "    }\n",
              "</style>\n",
              "<table border=\"1\" class=\"dataframe\">\n",
              "  <thead>\n",
              "    <tr style=\"text-align: right;\">\n",
              "      <th></th>\n",
              "      <th>Place of Publication</th>\n",
              "      <th>Date of Publication</th>\n",
              "      <th>Publisher</th>\n",
              "      <th>Title</th>\n",
              "      <th>Author</th>\n",
              "      <th>Contributors</th>\n",
              "      <th>Issuance type</th>\n",
              "      <th>Flickr URL</th>\n",
              "      <th>Shelfmarks</th>\n",
              "    </tr>\n",
              "    <tr>\n",
              "      <th>Identifier</th>\n",
              "      <th></th>\n",
              "      <th></th>\n",
              "      <th></th>\n",
              "      <th></th>\n",
              "      <th></th>\n",
              "      <th></th>\n",
              "      <th></th>\n",
              "      <th></th>\n",
              "      <th></th>\n",
              "    </tr>\n",
              "  </thead>\n",
              "  <tbody>\n",
              "    <tr>\n",
              "      <th>206</th>\n",
              "      <td>London</td>\n",
              "      <td>1879</td>\n",
              "      <td>S. Tinsley &amp; Co.</td>\n",
              "      <td>Walter Forbes. [A novel.] By A. A</td>\n",
              "      <td>A. A.</td>\n",
              "      <td>FORBES, Walter.</td>\n",
              "      <td>monographic</td>\n",
              "      <td>http://www.flickr.com/photos/britishlibrary/ta...</td>\n",
              "      <td>British Library HMNTS 12641.b.30.</td>\n",
              "    </tr>\n",
              "    <tr>\n",
              "      <th>216</th>\n",
              "      <td>London; Virtue &amp; Yorston</td>\n",
              "      <td>1868</td>\n",
              "      <td>Virtue &amp; Co.</td>\n",
              "      <td>All for Greed. [A novel. The dedication signed...</td>\n",
              "      <td>A., A. A.</td>\n",
              "      <td>BLAZE DE BURY, Marie Pauline Rose - Baroness</td>\n",
              "      <td>monographic</td>\n",
              "      <td>http://www.flickr.com/photos/britishlibrary/ta...</td>\n",
              "      <td>British Library HMNTS 12626.cc.2.</td>\n",
              "    </tr>\n",
              "    <tr>\n",
              "      <th>218</th>\n",
              "      <td>London</td>\n",
              "      <td>1869</td>\n",
              "      <td>Bradbury, Evans &amp; Co.</td>\n",
              "      <td>Love the Avenger. By the author of “All for Gr...</td>\n",
              "      <td>A., A. A.</td>\n",
              "      <td>BLAZE DE BURY, Marie Pauline Rose - Baroness</td>\n",
              "      <td>monographic</td>\n",
              "      <td>http://www.flickr.com/photos/britishlibrary/ta...</td>\n",
              "      <td>British Library HMNTS 12625.dd.1.</td>\n",
              "    </tr>\n",
              "    <tr>\n",
              "      <th>472</th>\n",
              "      <td>London</td>\n",
              "      <td>1851</td>\n",
              "      <td>James Darling</td>\n",
              "      <td>Welsh Sketches, chiefly ecclesiastical, to the...</td>\n",
              "      <td>A., E. S.</td>\n",
              "      <td>Appleyard, Ernest Silvanus.</td>\n",
              "      <td>monographic</td>\n",
              "      <td>http://www.flickr.com/photos/britishlibrary/ta...</td>\n",
              "      <td>British Library HMNTS 10369.bbb.15.</td>\n",
              "    </tr>\n",
              "    <tr>\n",
              "      <th>480</th>\n",
              "      <td>London</td>\n",
              "      <td>1857</td>\n",
              "      <td>Wertheim &amp; Macintosh</td>\n",
              "      <td>[The World in which I live, and my place in it...</td>\n",
              "      <td>A., E. S.</td>\n",
              "      <td>BROOME, John Henry.</td>\n",
              "      <td>monographic</td>\n",
              "      <td>http://www.flickr.com/photos/britishlibrary/ta...</td>\n",
              "      <td>British Library HMNTS 9007.d.28.</td>\n",
              "    </tr>\n",
              "  </tbody>\n",
              "</table>\n",
              "</div>"
            ],
            "text/plain": [
              "                Place of Publication  ...                           Shelfmarks\n",
              "Identifier                            ...                                     \n",
              "206                           London  ...    British Library HMNTS 12641.b.30.\n",
              "216         London; Virtue & Yorston  ...    British Library HMNTS 12626.cc.2.\n",
              "218                           London  ...    British Library HMNTS 12625.dd.1.\n",
              "472                           London  ...  British Library HMNTS 10369.bbb.15.\n",
              "480                           London  ...     British Library HMNTS 9007.d.28.\n",
              "\n",
              "[5 rows x 9 columns]"
            ]
          },
          "metadata": {
            "tags": []
          },
          "execution_count": 34
        }
      ]
    },
    {
      "cell_type": "code",
      "metadata": {
        "id": "wncq4RIe4RF9",
        "colab": {
          "base_uri": "https://localhost:8080/",
          "height": 243
        },
        "outputId": "ff0744e0-038c-44b4-b032-7b7b31343772"
      },
      "source": [
        "book_reindexed_df['Date of Publication'].str.isnumeric()"
      ],
      "execution_count": null,
      "outputs": [
        {
          "output_type": "execute_result",
          "data": {
            "text/plain": [
              "Identifier\n",
              "206        True\n",
              "216        True\n",
              "218        True\n",
              "472        True\n",
              "480        True\n",
              "           ... \n",
              "4158088    True\n",
              "4158128    True\n",
              "4159563     NaN\n",
              "4159587    True\n",
              "4160339    True\n",
              "Name: Date of Publication, Length: 8287, dtype: object"
            ]
          },
          "metadata": {
            "tags": []
          },
          "execution_count": 35
        }
      ]
    },
    {
      "cell_type": "code",
      "metadata": {
        "id": "zenTt95M5NMu"
      },
      "source": [
        "book_reindexed_df['Date of Publication'] = pd.to_numeric(book_reindexed_df['Date of Publication'])"
      ],
      "execution_count": null,
      "outputs": []
    },
    {
      "cell_type": "code",
      "metadata": {
        "id": "J4nJFjte5gtz",
        "colab": {
          "base_uri": "https://localhost:8080/",
          "height": 35
        },
        "outputId": "3ef92e70-13a6-47d7-a029-8e160604e7b7"
      },
      "source": [
        "book_reindexed_df['Date of Publication'].dtype"
      ],
      "execution_count": null,
      "outputs": [
        {
          "output_type": "execute_result",
          "data": {
            "text/plain": [
              "dtype('float64')"
            ]
          },
          "metadata": {
            "tags": []
          },
          "execution_count": 40
        }
      ]
    },
    {
      "cell_type": "code",
      "metadata": {
        "id": "-oOEYHMf5z6x"
      },
      "source": [
        ""
      ],
      "execution_count": null,
      "outputs": []
    },
    {
      "cell_type": "markdown",
      "metadata": {
        "id": "TS123voCEiFo"
      },
      "source": [
        "# Property Dataset"
      ]
    },
    {
      "cell_type": "code",
      "metadata": {
        "id": "PvZh56fzEkyX"
      },
      "source": [
        "property_df = pd.read_csv('https://raw.githubusercontent.com/CunyLaguardiaDataAnalytics/datasets/master/property.csv')"
      ],
      "execution_count": null,
      "outputs": []
    },
    {
      "cell_type": "code",
      "metadata": {
        "id": "qke6metTFdaY",
        "colab": {
          "base_uri": "https://localhost:8080/",
          "height": 325
        },
        "outputId": "b2160562-2cb3-4b41-e025-56bf95c24f1a"
      },
      "source": [
        "property_df"
      ],
      "execution_count": null,
      "outputs": [
        {
          "output_type": "execute_result",
          "data": {
            "text/html": [
              "<div>\n",
              "<style scoped>\n",
              "    .dataframe tbody tr th:only-of-type {\n",
              "        vertical-align: middle;\n",
              "    }\n",
              "\n",
              "    .dataframe tbody tr th {\n",
              "        vertical-align: top;\n",
              "    }\n",
              "\n",
              "    .dataframe thead th {\n",
              "        text-align: right;\n",
              "    }\n",
              "</style>\n",
              "<table border=\"1\" class=\"dataframe\">\n",
              "  <thead>\n",
              "    <tr style=\"text-align: right;\">\n",
              "      <th></th>\n",
              "      <th>PID</th>\n",
              "      <th>ST_NUM</th>\n",
              "      <th>ST_NAME</th>\n",
              "      <th>OWN_OCCUPIED</th>\n",
              "      <th>NUM_BEDROOMS</th>\n",
              "      <th>NUM_BATH</th>\n",
              "      <th>SQ_FT</th>\n",
              "    </tr>\n",
              "  </thead>\n",
              "  <tbody>\n",
              "    <tr>\n",
              "      <th>0</th>\n",
              "      <td>100001000.0</td>\n",
              "      <td>104.0</td>\n",
              "      <td>PUTNAM</td>\n",
              "      <td>Y</td>\n",
              "      <td>3</td>\n",
              "      <td>1</td>\n",
              "      <td>1000</td>\n",
              "    </tr>\n",
              "    <tr>\n",
              "      <th>1</th>\n",
              "      <td>100002000.0</td>\n",
              "      <td>197.0</td>\n",
              "      <td>LEXINGTON</td>\n",
              "      <td>N</td>\n",
              "      <td>3</td>\n",
              "      <td>1.5</td>\n",
              "      <td>--</td>\n",
              "    </tr>\n",
              "    <tr>\n",
              "      <th>2</th>\n",
              "      <td>100003000.0</td>\n",
              "      <td>NaN</td>\n",
              "      <td>LEXINGTON</td>\n",
              "      <td>N</td>\n",
              "      <td>NaN</td>\n",
              "      <td>1</td>\n",
              "      <td>850</td>\n",
              "    </tr>\n",
              "    <tr>\n",
              "      <th>3</th>\n",
              "      <td>100004000.0</td>\n",
              "      <td>201.0</td>\n",
              "      <td>BERKELEY</td>\n",
              "      <td>12</td>\n",
              "      <td>1</td>\n",
              "      <td>NaN</td>\n",
              "      <td>700</td>\n",
              "    </tr>\n",
              "    <tr>\n",
              "      <th>4</th>\n",
              "      <td>NaN</td>\n",
              "      <td>203.0</td>\n",
              "      <td>BERKELEY</td>\n",
              "      <td>Y</td>\n",
              "      <td>3</td>\n",
              "      <td>2</td>\n",
              "      <td>1600</td>\n",
              "    </tr>\n",
              "    <tr>\n",
              "      <th>5</th>\n",
              "      <td>100006000.0</td>\n",
              "      <td>207.0</td>\n",
              "      <td>BERKELEY</td>\n",
              "      <td>Y</td>\n",
              "      <td>NaN</td>\n",
              "      <td>1</td>\n",
              "      <td>800</td>\n",
              "    </tr>\n",
              "    <tr>\n",
              "      <th>6</th>\n",
              "      <td>100007000.0</td>\n",
              "      <td>NaN</td>\n",
              "      <td>WASHINGTON</td>\n",
              "      <td>NaN</td>\n",
              "      <td>2</td>\n",
              "      <td>HURLEY</td>\n",
              "      <td>950</td>\n",
              "    </tr>\n",
              "    <tr>\n",
              "      <th>7</th>\n",
              "      <td>100008000.0</td>\n",
              "      <td>213.0</td>\n",
              "      <td>TREMONT</td>\n",
              "      <td>Y</td>\n",
              "      <td>1</td>\n",
              "      <td>1</td>\n",
              "      <td>NaN</td>\n",
              "    </tr>\n",
              "    <tr>\n",
              "      <th>8</th>\n",
              "      <td>100009000.0</td>\n",
              "      <td>215.0</td>\n",
              "      <td>TREMONT</td>\n",
              "      <td>Y</td>\n",
              "      <td>na</td>\n",
              "      <td>2</td>\n",
              "      <td>1800</td>\n",
              "    </tr>\n",
              "  </tbody>\n",
              "</table>\n",
              "</div>"
            ],
            "text/plain": [
              "           PID  ST_NUM     ST_NAME OWN_OCCUPIED NUM_BEDROOMS NUM_BATH SQ_FT\n",
              "0  100001000.0   104.0      PUTNAM            Y            3        1  1000\n",
              "1  100002000.0   197.0   LEXINGTON            N            3      1.5    --\n",
              "2  100003000.0     NaN   LEXINGTON            N          NaN        1   850\n",
              "3  100004000.0   201.0    BERKELEY           12            1      NaN   700\n",
              "4          NaN   203.0    BERKELEY            Y            3        2  1600\n",
              "5  100006000.0   207.0    BERKELEY            Y          NaN        1   800\n",
              "6  100007000.0     NaN  WASHINGTON          NaN            2   HURLEY   950\n",
              "7  100008000.0   213.0     TREMONT            Y            1        1   NaN\n",
              "8  100009000.0   215.0     TREMONT            Y           na        2  1800"
            ]
          },
          "metadata": {
            "tags": []
          },
          "execution_count": 46
        }
      ]
    },
    {
      "cell_type": "code",
      "metadata": {
        "id": "MSgAorPAGprz",
        "colab": {
          "base_uri": "https://localhost:8080/",
          "height": 35
        },
        "outputId": "bf81735a-cd9c-49b1-a6ea-b39659085efc"
      },
      "source": [
        "property_df.shape"
      ],
      "execution_count": null,
      "outputs": [
        {
          "output_type": "execute_result",
          "data": {
            "text/plain": [
              "(9, 7)"
            ]
          },
          "metadata": {
            "tags": []
          },
          "execution_count": 49
        }
      ]
    },
    {
      "cell_type": "code",
      "metadata": {
        "id": "RcQK_3iIFhyF"
      },
      "source": [
        "new_prop_df = property_df.dropna()"
      ],
      "execution_count": null,
      "outputs": []
    },
    {
      "cell_type": "code",
      "metadata": {
        "id": "zhNRwZ1bGY4e",
        "colab": {
          "base_uri": "https://localhost:8080/",
          "height": 141
        },
        "outputId": "3828fd2f-8701-48e4-fc4c-151dce2cbe1b"
      },
      "source": [
        "new_prop_df"
      ],
      "execution_count": null,
      "outputs": [
        {
          "output_type": "execute_result",
          "data": {
            "text/html": [
              "<div>\n",
              "<style scoped>\n",
              "    .dataframe tbody tr th:only-of-type {\n",
              "        vertical-align: middle;\n",
              "    }\n",
              "\n",
              "    .dataframe tbody tr th {\n",
              "        vertical-align: top;\n",
              "    }\n",
              "\n",
              "    .dataframe thead th {\n",
              "        text-align: right;\n",
              "    }\n",
              "</style>\n",
              "<table border=\"1\" class=\"dataframe\">\n",
              "  <thead>\n",
              "    <tr style=\"text-align: right;\">\n",
              "      <th></th>\n",
              "      <th>PID</th>\n",
              "      <th>ST_NUM</th>\n",
              "      <th>ST_NAME</th>\n",
              "      <th>OWN_OCCUPIED</th>\n",
              "      <th>NUM_BEDROOMS</th>\n",
              "      <th>NUM_BATH</th>\n",
              "      <th>SQ_FT</th>\n",
              "    </tr>\n",
              "  </thead>\n",
              "  <tbody>\n",
              "    <tr>\n",
              "      <th>0</th>\n",
              "      <td>100001000.0</td>\n",
              "      <td>104.0</td>\n",
              "      <td>PUTNAM</td>\n",
              "      <td>Y</td>\n",
              "      <td>3</td>\n",
              "      <td>1</td>\n",
              "      <td>1000</td>\n",
              "    </tr>\n",
              "    <tr>\n",
              "      <th>1</th>\n",
              "      <td>100002000.0</td>\n",
              "      <td>197.0</td>\n",
              "      <td>LEXINGTON</td>\n",
              "      <td>N</td>\n",
              "      <td>3</td>\n",
              "      <td>1.5</td>\n",
              "      <td>--</td>\n",
              "    </tr>\n",
              "    <tr>\n",
              "      <th>8</th>\n",
              "      <td>100009000.0</td>\n",
              "      <td>215.0</td>\n",
              "      <td>TREMONT</td>\n",
              "      <td>Y</td>\n",
              "      <td>na</td>\n",
              "      <td>2</td>\n",
              "      <td>1800</td>\n",
              "    </tr>\n",
              "  </tbody>\n",
              "</table>\n",
              "</div>"
            ],
            "text/plain": [
              "           PID  ST_NUM    ST_NAME OWN_OCCUPIED NUM_BEDROOMS NUM_BATH SQ_FT\n",
              "0  100001000.0   104.0     PUTNAM            Y            3        1  1000\n",
              "1  100002000.0   197.0  LEXINGTON            N            3      1.5    --\n",
              "8  100009000.0   215.0    TREMONT            Y           na        2  1800"
            ]
          },
          "metadata": {
            "tags": []
          },
          "execution_count": 48
        }
      ]
    },
    {
      "cell_type": "code",
      "metadata": {
        "id": "QsGk1rQYGard",
        "colab": {
          "base_uri": "https://localhost:8080/",
          "height": 35
        },
        "outputId": "975d483f-d732-4f2a-c800-9e835c743d3a"
      },
      "source": [
        "new_prop_df.shape"
      ],
      "execution_count": null,
      "outputs": [
        {
          "output_type": "execute_result",
          "data": {
            "text/plain": [
              "(3, 7)"
            ]
          },
          "metadata": {
            "tags": []
          },
          "execution_count": 50
        }
      ]
    },
    {
      "cell_type": "code",
      "metadata": {
        "id": "l8ZqA76FGwym",
        "colab": {
          "base_uri": "https://localhost:8080/",
          "height": 191
        },
        "outputId": "82c737ff-50ad-4d2e-e03e-05603c91ce39"
      },
      "source": [
        "property_df['NUM_BATH'].isnull()"
      ],
      "execution_count": null,
      "outputs": [
        {
          "output_type": "execute_result",
          "data": {
            "text/plain": [
              "0    False\n",
              "1    False\n",
              "2    False\n",
              "3     True\n",
              "4    False\n",
              "5    False\n",
              "6    False\n",
              "7    False\n",
              "8    False\n",
              "Name: NUM_BATH, dtype: bool"
            ]
          },
          "metadata": {
            "tags": []
          },
          "execution_count": 51
        }
      ]
    },
    {
      "cell_type": "code",
      "metadata": {
        "id": "ROq5DuF1HytO"
      },
      "source": [
        "missing_values = ['-','--','na','n/a','NA']"
      ],
      "execution_count": null,
      "outputs": []
    },
    {
      "cell_type": "code",
      "metadata": {
        "id": "_32FH4MuIZeQ"
      },
      "source": [
        "property_na_fix_df = pd.read_csv('https://raw.githubusercontent.com/CunyLaguardiaDataAnalytics/datasets/master/property.csv', na_values=missing_values)"
      ],
      "execution_count": null,
      "outputs": []
    },
    {
      "cell_type": "code",
      "metadata": {
        "id": "YBcXGwGBIu5r",
        "colab": {
          "base_uri": "https://localhost:8080/",
          "height": 325
        },
        "outputId": "6dea5313-06d5-4808-bae7-970b2aac7064"
      },
      "source": [
        "property_na_fix_df"
      ],
      "execution_count": null,
      "outputs": [
        {
          "output_type": "execute_result",
          "data": {
            "text/html": [
              "<div>\n",
              "<style scoped>\n",
              "    .dataframe tbody tr th:only-of-type {\n",
              "        vertical-align: middle;\n",
              "    }\n",
              "\n",
              "    .dataframe tbody tr th {\n",
              "        vertical-align: top;\n",
              "    }\n",
              "\n",
              "    .dataframe thead th {\n",
              "        text-align: right;\n",
              "    }\n",
              "</style>\n",
              "<table border=\"1\" class=\"dataframe\">\n",
              "  <thead>\n",
              "    <tr style=\"text-align: right;\">\n",
              "      <th></th>\n",
              "      <th>PID</th>\n",
              "      <th>ST_NUM</th>\n",
              "      <th>ST_NAME</th>\n",
              "      <th>OWN_OCCUPIED</th>\n",
              "      <th>NUM_BEDROOMS</th>\n",
              "      <th>NUM_BATH</th>\n",
              "      <th>SQ_FT</th>\n",
              "    </tr>\n",
              "  </thead>\n",
              "  <tbody>\n",
              "    <tr>\n",
              "      <th>0</th>\n",
              "      <td>100001000.0</td>\n",
              "      <td>104.0</td>\n",
              "      <td>PUTNAM</td>\n",
              "      <td>Y</td>\n",
              "      <td>3.0</td>\n",
              "      <td>1</td>\n",
              "      <td>1000.0</td>\n",
              "    </tr>\n",
              "    <tr>\n",
              "      <th>1</th>\n",
              "      <td>100002000.0</td>\n",
              "      <td>197.0</td>\n",
              "      <td>LEXINGTON</td>\n",
              "      <td>N</td>\n",
              "      <td>3.0</td>\n",
              "      <td>1.5</td>\n",
              "      <td>NaN</td>\n",
              "    </tr>\n",
              "    <tr>\n",
              "      <th>2</th>\n",
              "      <td>100003000.0</td>\n",
              "      <td>NaN</td>\n",
              "      <td>LEXINGTON</td>\n",
              "      <td>N</td>\n",
              "      <td>NaN</td>\n",
              "      <td>1</td>\n",
              "      <td>850.0</td>\n",
              "    </tr>\n",
              "    <tr>\n",
              "      <th>3</th>\n",
              "      <td>100004000.0</td>\n",
              "      <td>201.0</td>\n",
              "      <td>BERKELEY</td>\n",
              "      <td>12</td>\n",
              "      <td>1.0</td>\n",
              "      <td>NaN</td>\n",
              "      <td>700.0</td>\n",
              "    </tr>\n",
              "    <tr>\n",
              "      <th>4</th>\n",
              "      <td>NaN</td>\n",
              "      <td>203.0</td>\n",
              "      <td>BERKELEY</td>\n",
              "      <td>Y</td>\n",
              "      <td>3.0</td>\n",
              "      <td>2</td>\n",
              "      <td>1600.0</td>\n",
              "    </tr>\n",
              "    <tr>\n",
              "      <th>5</th>\n",
              "      <td>100006000.0</td>\n",
              "      <td>207.0</td>\n",
              "      <td>BERKELEY</td>\n",
              "      <td>Y</td>\n",
              "      <td>NaN</td>\n",
              "      <td>1</td>\n",
              "      <td>800.0</td>\n",
              "    </tr>\n",
              "    <tr>\n",
              "      <th>6</th>\n",
              "      <td>100007000.0</td>\n",
              "      <td>NaN</td>\n",
              "      <td>WASHINGTON</td>\n",
              "      <td>NaN</td>\n",
              "      <td>2.0</td>\n",
              "      <td>HURLEY</td>\n",
              "      <td>950.0</td>\n",
              "    </tr>\n",
              "    <tr>\n",
              "      <th>7</th>\n",
              "      <td>100008000.0</td>\n",
              "      <td>213.0</td>\n",
              "      <td>TREMONT</td>\n",
              "      <td>Y</td>\n",
              "      <td>1.0</td>\n",
              "      <td>1</td>\n",
              "      <td>NaN</td>\n",
              "    </tr>\n",
              "    <tr>\n",
              "      <th>8</th>\n",
              "      <td>100009000.0</td>\n",
              "      <td>215.0</td>\n",
              "      <td>TREMONT</td>\n",
              "      <td>Y</td>\n",
              "      <td>NaN</td>\n",
              "      <td>2</td>\n",
              "      <td>1800.0</td>\n",
              "    </tr>\n",
              "  </tbody>\n",
              "</table>\n",
              "</div>"
            ],
            "text/plain": [
              "           PID  ST_NUM     ST_NAME OWN_OCCUPIED  NUM_BEDROOMS NUM_BATH   SQ_FT\n",
              "0  100001000.0   104.0      PUTNAM            Y           3.0        1  1000.0\n",
              "1  100002000.0   197.0   LEXINGTON            N           3.0      1.5     NaN\n",
              "2  100003000.0     NaN   LEXINGTON            N           NaN        1   850.0\n",
              "3  100004000.0   201.0    BERKELEY           12           1.0      NaN   700.0\n",
              "4          NaN   203.0    BERKELEY            Y           3.0        2  1600.0\n",
              "5  100006000.0   207.0    BERKELEY            Y           NaN        1   800.0\n",
              "6  100007000.0     NaN  WASHINGTON          NaN           2.0   HURLEY   950.0\n",
              "7  100008000.0   213.0     TREMONT            Y           1.0        1     NaN\n",
              "8  100009000.0   215.0     TREMONT            Y           NaN        2  1800.0"
            ]
          },
          "metadata": {
            "tags": []
          },
          "execution_count": 55
        }
      ]
    },
    {
      "cell_type": "code",
      "metadata": {
        "id": "L-8_4bxfIyk3",
        "colab": {
          "base_uri": "https://localhost:8080/",
          "height": 191
        },
        "outputId": "a4d92576-9a87-46df-e799-9c0440bf02b1"
      },
      "source": [
        "property_df.NUM_BEDROOMS.unique"
      ],
      "execution_count": null,
      "outputs": [
        {
          "output_type": "execute_result",
          "data": {
            "text/plain": [
              "<bound method Series.unique of 0      3\n",
              "1      3\n",
              "2    NaN\n",
              "3      1\n",
              "4      3\n",
              "5    NaN\n",
              "6      2\n",
              "7      1\n",
              "8     na\n",
              "Name: NUM_BEDROOMS, dtype: object>"
            ]
          },
          "metadata": {
            "tags": []
          },
          "execution_count": 58
        }
      ]
    },
    {
      "cell_type": "code",
      "metadata": {
        "id": "1JTLoz_BJ9HO"
      },
      "source": [
        "property_df['NUM_BATH']  = pd.to_numeric(property_df['NUM_BATH'], errors='coerce')"
      ],
      "execution_count": null,
      "outputs": []
    },
    {
      "cell_type": "code",
      "metadata": {
        "id": "UVERNc6aKw82",
        "colab": {
          "base_uri": "https://localhost:8080/",
          "height": 325
        },
        "outputId": "70f7ae61-d2b2-499c-e35f-5f0e573c05a8"
      },
      "source": [
        "property_df"
      ],
      "execution_count": null,
      "outputs": [
        {
          "output_type": "execute_result",
          "data": {
            "text/html": [
              "<div>\n",
              "<style scoped>\n",
              "    .dataframe tbody tr th:only-of-type {\n",
              "        vertical-align: middle;\n",
              "    }\n",
              "\n",
              "    .dataframe tbody tr th {\n",
              "        vertical-align: top;\n",
              "    }\n",
              "\n",
              "    .dataframe thead th {\n",
              "        text-align: right;\n",
              "    }\n",
              "</style>\n",
              "<table border=\"1\" class=\"dataframe\">\n",
              "  <thead>\n",
              "    <tr style=\"text-align: right;\">\n",
              "      <th></th>\n",
              "      <th>PID</th>\n",
              "      <th>ST_NUM</th>\n",
              "      <th>ST_NAME</th>\n",
              "      <th>OWN_OCCUPIED</th>\n",
              "      <th>NUM_BEDROOMS</th>\n",
              "      <th>NUM_BATH</th>\n",
              "      <th>SQ_FT</th>\n",
              "    </tr>\n",
              "  </thead>\n",
              "  <tbody>\n",
              "    <tr>\n",
              "      <th>0</th>\n",
              "      <td>100001000.0</td>\n",
              "      <td>104.0</td>\n",
              "      <td>PUTNAM</td>\n",
              "      <td>Y</td>\n",
              "      <td>3</td>\n",
              "      <td>1.0</td>\n",
              "      <td>1000</td>\n",
              "    </tr>\n",
              "    <tr>\n",
              "      <th>1</th>\n",
              "      <td>100002000.0</td>\n",
              "      <td>197.0</td>\n",
              "      <td>LEXINGTON</td>\n",
              "      <td>N</td>\n",
              "      <td>3</td>\n",
              "      <td>1.5</td>\n",
              "      <td>--</td>\n",
              "    </tr>\n",
              "    <tr>\n",
              "      <th>2</th>\n",
              "      <td>100003000.0</td>\n",
              "      <td>NaN</td>\n",
              "      <td>LEXINGTON</td>\n",
              "      <td>N</td>\n",
              "      <td>NaN</td>\n",
              "      <td>1.0</td>\n",
              "      <td>850</td>\n",
              "    </tr>\n",
              "    <tr>\n",
              "      <th>3</th>\n",
              "      <td>100004000.0</td>\n",
              "      <td>201.0</td>\n",
              "      <td>BERKELEY</td>\n",
              "      <td>12</td>\n",
              "      <td>1</td>\n",
              "      <td>NaN</td>\n",
              "      <td>700</td>\n",
              "    </tr>\n",
              "    <tr>\n",
              "      <th>4</th>\n",
              "      <td>NaN</td>\n",
              "      <td>203.0</td>\n",
              "      <td>BERKELEY</td>\n",
              "      <td>Y</td>\n",
              "      <td>3</td>\n",
              "      <td>2.0</td>\n",
              "      <td>1600</td>\n",
              "    </tr>\n",
              "    <tr>\n",
              "      <th>5</th>\n",
              "      <td>100006000.0</td>\n",
              "      <td>207.0</td>\n",
              "      <td>BERKELEY</td>\n",
              "      <td>Y</td>\n",
              "      <td>NaN</td>\n",
              "      <td>1.0</td>\n",
              "      <td>800</td>\n",
              "    </tr>\n",
              "    <tr>\n",
              "      <th>6</th>\n",
              "      <td>100007000.0</td>\n",
              "      <td>NaN</td>\n",
              "      <td>WASHINGTON</td>\n",
              "      <td>NaN</td>\n",
              "      <td>2</td>\n",
              "      <td>NaN</td>\n",
              "      <td>950</td>\n",
              "    </tr>\n",
              "    <tr>\n",
              "      <th>7</th>\n",
              "      <td>100008000.0</td>\n",
              "      <td>213.0</td>\n",
              "      <td>TREMONT</td>\n",
              "      <td>Y</td>\n",
              "      <td>1</td>\n",
              "      <td>1.0</td>\n",
              "      <td>NaN</td>\n",
              "    </tr>\n",
              "    <tr>\n",
              "      <th>8</th>\n",
              "      <td>100009000.0</td>\n",
              "      <td>215.0</td>\n",
              "      <td>TREMONT</td>\n",
              "      <td>Y</td>\n",
              "      <td>na</td>\n",
              "      <td>2.0</td>\n",
              "      <td>1800</td>\n",
              "    </tr>\n",
              "  </tbody>\n",
              "</table>\n",
              "</div>"
            ],
            "text/plain": [
              "           PID  ST_NUM     ST_NAME OWN_OCCUPIED NUM_BEDROOMS  NUM_BATH SQ_FT\n",
              "0  100001000.0   104.0      PUTNAM            Y            3       1.0  1000\n",
              "1  100002000.0   197.0   LEXINGTON            N            3       1.5    --\n",
              "2  100003000.0     NaN   LEXINGTON            N          NaN       1.0   850\n",
              "3  100004000.0   201.0    BERKELEY           12            1       NaN   700\n",
              "4          NaN   203.0    BERKELEY            Y            3       2.0  1600\n",
              "5  100006000.0   207.0    BERKELEY            Y          NaN       1.0   800\n",
              "6  100007000.0     NaN  WASHINGTON          NaN            2       NaN   950\n",
              "7  100008000.0   213.0     TREMONT            Y            1       1.0   NaN\n",
              "8  100009000.0   215.0     TREMONT            Y           na       2.0  1800"
            ]
          },
          "metadata": {
            "tags": []
          },
          "execution_count": 60
        }
      ]
    },
    {
      "cell_type": "code",
      "metadata": {
        "id": "aDLFf46zL6iR"
      },
      "source": [
        ""
      ],
      "execution_count": null,
      "outputs": []
    },
    {
      "cell_type": "code",
      "metadata": {
        "id": "j4DRJBfvQCxB",
        "colab": {
          "base_uri": "https://localhost:8080/",
          "height": 35
        },
        "outputId": "05933f36-5ce7-48a7-c5c1-36c9034c3deb"
      },
      "source": [
        "property_na_fix_df['SQ_FT'].dtype"
      ],
      "execution_count": null,
      "outputs": [
        {
          "output_type": "execute_result",
          "data": {
            "text/plain": [
              "dtype('float64')"
            ]
          },
          "metadata": {
            "tags": []
          },
          "execution_count": 88
        }
      ]
    },
    {
      "cell_type": "code",
      "metadata": {
        "id": "yysHxRV7K07h",
        "colab": {
          "base_uri": "https://localhost:8080/",
          "height": 325
        },
        "outputId": "0e555063-2c93-4c4b-ae62-cfc78923300b"
      },
      "source": [
        "property_na_fix_df['PROP_TYPE'] = np.where((property_na_fix_df['SQ_FT'] > 1000) ,'BIG', 'SMALL')\n",
        "property_na_fix_df"
      ],
      "execution_count": null,
      "outputs": [
        {
          "output_type": "execute_result",
          "data": {
            "text/html": [
              "<div>\n",
              "<style scoped>\n",
              "    .dataframe tbody tr th:only-of-type {\n",
              "        vertical-align: middle;\n",
              "    }\n",
              "\n",
              "    .dataframe tbody tr th {\n",
              "        vertical-align: top;\n",
              "    }\n",
              "\n",
              "    .dataframe thead th {\n",
              "        text-align: right;\n",
              "    }\n",
              "</style>\n",
              "<table border=\"1\" class=\"dataframe\">\n",
              "  <thead>\n",
              "    <tr style=\"text-align: right;\">\n",
              "      <th></th>\n",
              "      <th>PID</th>\n",
              "      <th>ST_NUM</th>\n",
              "      <th>ST_NAME</th>\n",
              "      <th>OWN_OCCUPIED</th>\n",
              "      <th>NUM_BEDROOMS</th>\n",
              "      <th>NUM_BATH</th>\n",
              "      <th>SQ_FT</th>\n",
              "      <th>PROP_TYPE</th>\n",
              "    </tr>\n",
              "  </thead>\n",
              "  <tbody>\n",
              "    <tr>\n",
              "      <th>0</th>\n",
              "      <td>100001000.0</td>\n",
              "      <td>104.0</td>\n",
              "      <td>PUTNAM</td>\n",
              "      <td>Y</td>\n",
              "      <td>3.0</td>\n",
              "      <td>1</td>\n",
              "      <td>1000.0</td>\n",
              "      <td>SMALL</td>\n",
              "    </tr>\n",
              "    <tr>\n",
              "      <th>1</th>\n",
              "      <td>100002000.0</td>\n",
              "      <td>197.0</td>\n",
              "      <td>LEXINGTON</td>\n",
              "      <td>N</td>\n",
              "      <td>3.0</td>\n",
              "      <td>1.5</td>\n",
              "      <td>NaN</td>\n",
              "      <td>SMALL</td>\n",
              "    </tr>\n",
              "    <tr>\n",
              "      <th>2</th>\n",
              "      <td>100003000.0</td>\n",
              "      <td>NaN</td>\n",
              "      <td>LEXINGTON</td>\n",
              "      <td>N</td>\n",
              "      <td>NaN</td>\n",
              "      <td>1</td>\n",
              "      <td>850.0</td>\n",
              "      <td>SMALL</td>\n",
              "    </tr>\n",
              "    <tr>\n",
              "      <th>3</th>\n",
              "      <td>100004000.0</td>\n",
              "      <td>201.0</td>\n",
              "      <td>BERKELEY</td>\n",
              "      <td>12</td>\n",
              "      <td>1.0</td>\n",
              "      <td>NaN</td>\n",
              "      <td>700.0</td>\n",
              "      <td>SMALL</td>\n",
              "    </tr>\n",
              "    <tr>\n",
              "      <th>4</th>\n",
              "      <td>NaN</td>\n",
              "      <td>203.0</td>\n",
              "      <td>BERKELEY</td>\n",
              "      <td>Y</td>\n",
              "      <td>3.0</td>\n",
              "      <td>2</td>\n",
              "      <td>1600.0</td>\n",
              "      <td>BIG</td>\n",
              "    </tr>\n",
              "    <tr>\n",
              "      <th>5</th>\n",
              "      <td>100006000.0</td>\n",
              "      <td>207.0</td>\n",
              "      <td>BERKELEY</td>\n",
              "      <td>Y</td>\n",
              "      <td>NaN</td>\n",
              "      <td>1</td>\n",
              "      <td>800.0</td>\n",
              "      <td>SMALL</td>\n",
              "    </tr>\n",
              "    <tr>\n",
              "      <th>6</th>\n",
              "      <td>100007000.0</td>\n",
              "      <td>NaN</td>\n",
              "      <td>WASHINGTON</td>\n",
              "      <td>NaN</td>\n",
              "      <td>2.0</td>\n",
              "      <td>HURLEY</td>\n",
              "      <td>950.0</td>\n",
              "      <td>SMALL</td>\n",
              "    </tr>\n",
              "    <tr>\n",
              "      <th>7</th>\n",
              "      <td>100008000.0</td>\n",
              "      <td>213.0</td>\n",
              "      <td>TREMONT</td>\n",
              "      <td>Y</td>\n",
              "      <td>1.0</td>\n",
              "      <td>1</td>\n",
              "      <td>NaN</td>\n",
              "      <td>SMALL</td>\n",
              "    </tr>\n",
              "    <tr>\n",
              "      <th>8</th>\n",
              "      <td>100009000.0</td>\n",
              "      <td>215.0</td>\n",
              "      <td>TREMONT</td>\n",
              "      <td>Y</td>\n",
              "      <td>NaN</td>\n",
              "      <td>2</td>\n",
              "      <td>1800.0</td>\n",
              "      <td>BIG</td>\n",
              "    </tr>\n",
              "  </tbody>\n",
              "</table>\n",
              "</div>"
            ],
            "text/plain": [
              "           PID  ST_NUM     ST_NAME  ... NUM_BATH   SQ_FT PROP_TYPE\n",
              "0  100001000.0   104.0      PUTNAM  ...        1  1000.0     SMALL\n",
              "1  100002000.0   197.0   LEXINGTON  ...      1.5     NaN     SMALL\n",
              "2  100003000.0     NaN   LEXINGTON  ...        1   850.0     SMALL\n",
              "3  100004000.0   201.0    BERKELEY  ...      NaN   700.0     SMALL\n",
              "4          NaN   203.0    BERKELEY  ...        2  1600.0       BIG\n",
              "5  100006000.0   207.0    BERKELEY  ...        1   800.0     SMALL\n",
              "6  100007000.0     NaN  WASHINGTON  ...   HURLEY   950.0     SMALL\n",
              "7  100008000.0   213.0     TREMONT  ...        1     NaN     SMALL\n",
              "8  100009000.0   215.0     TREMONT  ...        2  1800.0       BIG\n",
              "\n",
              "[9 rows x 8 columns]"
            ]
          },
          "metadata": {
            "tags": []
          },
          "execution_count": 127
        }
      ]
    },
    {
      "cell_type": "code",
      "metadata": {
        "id": "xseT1snmQ5Cb",
        "colab": {
          "base_uri": "https://localhost:8080/",
          "height": 191
        },
        "outputId": "b26b6fa1-3968-4a84-ed64-83e213441fe2"
      },
      "source": [
        "property_na_fix_df['SQ_FT'].isna()"
      ],
      "execution_count": null,
      "outputs": [
        {
          "output_type": "execute_result",
          "data": {
            "text/plain": [
              "0    False\n",
              "1     True\n",
              "2    False\n",
              "3    False\n",
              "4    False\n",
              "5    False\n",
              "6    False\n",
              "7     True\n",
              "8    False\n",
              "Name: SQ_FT, dtype: bool"
            ]
          },
          "metadata": {
            "tags": []
          },
          "execution_count": 128
        }
      ]
    },
    {
      "cell_type": "code",
      "metadata": {
        "id": "IPgK2eDiLnHa",
        "colab": {
          "base_uri": "https://localhost:8080/",
          "height": 325
        },
        "outputId": "1b5c4be7-b181-4336-bec5-2e012d99858a"
      },
      "source": [
        "property_na_fix_df['PROP_TYPE'] = np.where((property_na_fix_df['SQ_FT'].isna() == False) ,property_na_fix_df['SQ_FT'], 'Unknown')\n",
        "property_na_fix_df"
      ],
      "execution_count": null,
      "outputs": [
        {
          "output_type": "execute_result",
          "data": {
            "text/html": [
              "<div>\n",
              "<style scoped>\n",
              "    .dataframe tbody tr th:only-of-type {\n",
              "        vertical-align: middle;\n",
              "    }\n",
              "\n",
              "    .dataframe tbody tr th {\n",
              "        vertical-align: top;\n",
              "    }\n",
              "\n",
              "    .dataframe thead th {\n",
              "        text-align: right;\n",
              "    }\n",
              "</style>\n",
              "<table border=\"1\" class=\"dataframe\">\n",
              "  <thead>\n",
              "    <tr style=\"text-align: right;\">\n",
              "      <th></th>\n",
              "      <th>PID</th>\n",
              "      <th>ST_NUM</th>\n",
              "      <th>ST_NAME</th>\n",
              "      <th>OWN_OCCUPIED</th>\n",
              "      <th>NUM_BEDROOMS</th>\n",
              "      <th>NUM_BATH</th>\n",
              "      <th>SQ_FT</th>\n",
              "      <th>PROP_TYPE</th>\n",
              "    </tr>\n",
              "  </thead>\n",
              "  <tbody>\n",
              "    <tr>\n",
              "      <th>0</th>\n",
              "      <td>100001000.0</td>\n",
              "      <td>104.0</td>\n",
              "      <td>PUTNAM</td>\n",
              "      <td>Y</td>\n",
              "      <td>3.0</td>\n",
              "      <td>1</td>\n",
              "      <td>1000.0</td>\n",
              "      <td>1000.0</td>\n",
              "    </tr>\n",
              "    <tr>\n",
              "      <th>1</th>\n",
              "      <td>100002000.0</td>\n",
              "      <td>197.0</td>\n",
              "      <td>LEXINGTON</td>\n",
              "      <td>N</td>\n",
              "      <td>3.0</td>\n",
              "      <td>1.5</td>\n",
              "      <td>NaN</td>\n",
              "      <td>Unknown</td>\n",
              "    </tr>\n",
              "    <tr>\n",
              "      <th>2</th>\n",
              "      <td>100003000.0</td>\n",
              "      <td>NaN</td>\n",
              "      <td>LEXINGTON</td>\n",
              "      <td>N</td>\n",
              "      <td>NaN</td>\n",
              "      <td>1</td>\n",
              "      <td>850.0</td>\n",
              "      <td>850.0</td>\n",
              "    </tr>\n",
              "    <tr>\n",
              "      <th>3</th>\n",
              "      <td>100004000.0</td>\n",
              "      <td>201.0</td>\n",
              "      <td>BERKELEY</td>\n",
              "      <td>12</td>\n",
              "      <td>1.0</td>\n",
              "      <td>NaN</td>\n",
              "      <td>700.0</td>\n",
              "      <td>700.0</td>\n",
              "    </tr>\n",
              "    <tr>\n",
              "      <th>4</th>\n",
              "      <td>NaN</td>\n",
              "      <td>203.0</td>\n",
              "      <td>BERKELEY</td>\n",
              "      <td>Y</td>\n",
              "      <td>3.0</td>\n",
              "      <td>2</td>\n",
              "      <td>1600.0</td>\n",
              "      <td>1600.0</td>\n",
              "    </tr>\n",
              "    <tr>\n",
              "      <th>5</th>\n",
              "      <td>100006000.0</td>\n",
              "      <td>207.0</td>\n",
              "      <td>BERKELEY</td>\n",
              "      <td>Y</td>\n",
              "      <td>NaN</td>\n",
              "      <td>1</td>\n",
              "      <td>800.0</td>\n",
              "      <td>800.0</td>\n",
              "    </tr>\n",
              "    <tr>\n",
              "      <th>6</th>\n",
              "      <td>100007000.0</td>\n",
              "      <td>NaN</td>\n",
              "      <td>WASHINGTON</td>\n",
              "      <td>NaN</td>\n",
              "      <td>2.0</td>\n",
              "      <td>HURLEY</td>\n",
              "      <td>950.0</td>\n",
              "      <td>950.0</td>\n",
              "    </tr>\n",
              "    <tr>\n",
              "      <th>7</th>\n",
              "      <td>100008000.0</td>\n",
              "      <td>213.0</td>\n",
              "      <td>TREMONT</td>\n",
              "      <td>Y</td>\n",
              "      <td>1.0</td>\n",
              "      <td>1</td>\n",
              "      <td>NaN</td>\n",
              "      <td>Unknown</td>\n",
              "    </tr>\n",
              "    <tr>\n",
              "      <th>8</th>\n",
              "      <td>100009000.0</td>\n",
              "      <td>215.0</td>\n",
              "      <td>TREMONT</td>\n",
              "      <td>Y</td>\n",
              "      <td>NaN</td>\n",
              "      <td>2</td>\n",
              "      <td>1800.0</td>\n",
              "      <td>1800.0</td>\n",
              "    </tr>\n",
              "  </tbody>\n",
              "</table>\n",
              "</div>"
            ],
            "text/plain": [
              "           PID  ST_NUM     ST_NAME  ... NUM_BATH   SQ_FT PROP_TYPE\n",
              "0  100001000.0   104.0      PUTNAM  ...        1  1000.0    1000.0\n",
              "1  100002000.0   197.0   LEXINGTON  ...      1.5     NaN   Unknown\n",
              "2  100003000.0     NaN   LEXINGTON  ...        1   850.0     850.0\n",
              "3  100004000.0   201.0    BERKELEY  ...      NaN   700.0     700.0\n",
              "4          NaN   203.0    BERKELEY  ...        2  1600.0    1600.0\n",
              "5  100006000.0   207.0    BERKELEY  ...        1   800.0     800.0\n",
              "6  100007000.0     NaN  WASHINGTON  ...   HURLEY   950.0     950.0\n",
              "7  100008000.0   213.0     TREMONT  ...        1     NaN   Unknown\n",
              "8  100009000.0   215.0     TREMONT  ...        2  1800.0    1800.0\n",
              "\n",
              "[9 rows x 8 columns]"
            ]
          },
          "metadata": {
            "tags": []
          },
          "execution_count": 130
        }
      ]
    },
    {
      "cell_type": "code",
      "metadata": {
        "id": "zKDU-544SRjx"
      },
      "source": [
        ""
      ],
      "execution_count": null,
      "outputs": []
    }
  ]
}