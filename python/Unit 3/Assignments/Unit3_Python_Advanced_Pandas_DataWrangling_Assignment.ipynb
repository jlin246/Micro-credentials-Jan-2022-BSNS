{
  "nbformat": 4,
  "nbformat_minor": 0,
  "metadata": {
    "colab": {
      "name": "Unit3_Python_Advanced_Pandas_DataWrangling_Assignment.ipynb",
      "provenance": [],
      "collapsed_sections": [],
      "include_colab_link": true
    },
    "kernelspec": {
      "name": "python3",
      "display_name": "Python 3"
    }
  },
  "cells": [
    {
      "cell_type": "markdown",
      "metadata": {
        "id": "view-in-github",
        "colab_type": "text"
      },
      "source": [
        "<a href=\"https://colab.research.google.com/github/jlin246/Micro-credentials-Jan-2022-BSNS/blob/main/python/Unit%203/Assignments/Unit3_Python_Advanced_Pandas_DataWrangling_Assignment.ipynb\" target=\"_parent\"><img src=\"https://colab.research.google.com/assets/colab-badge.svg\" alt=\"Open In Colab\"/></a>"
      ]
    },
    {
      "cell_type": "markdown",
      "metadata": {
        "id": "M9lK1TbaRC11"
      },
      "source": [
        "# Assignment 1 : Python Data Analysis using salaries dataset"
      ]
    },
    {
      "cell_type": "markdown",
      "metadata": {
        "id": "CHpOD5OcaO9j"
      },
      "source": [
        "# Data Exploration:  This should include summary statistics, means, medians, quartiles, or any other relevant information about the data set. "
      ]
    },
    {
      "cell_type": "code",
      "metadata": {
        "id": "NB7kwRqMaFIA"
      },
      "source": [
        "import pandas as pd \n",
        "import numpy as np\n",
        "import matplotlib.pyplot as plt\n",
        "%matplotlib inline"
      ],
      "execution_count": 1,
      "outputs": []
    },
    {
      "cell_type": "code",
      "metadata": {
        "id": "SBTN0yjtbEBP"
      },
      "source": [
        "df = pd.read_csv('https://raw.githubusercontent.com/CunyLaguardiaDataAnalytics/datasets/master/Salaries.csv')"
      ],
      "execution_count": 2,
      "outputs": []
    },
    {
      "cell_type": "code",
      "metadata": {
        "id": "eOTZmRkCbyBY",
        "colab": {
          "base_uri": "https://localhost:8080/"
        },
        "outputId": "c8eba6a9-0129-4863-a737-7f981f373af2"
      },
      "source": [
        "type(df)"
      ],
      "execution_count": 3,
      "outputs": [
        {
          "output_type": "execute_result",
          "data": {
            "text/plain": [
              "pandas.core.frame.DataFrame"
            ]
          },
          "metadata": {},
          "execution_count": 3
        }
      ]
    },
    {
      "cell_type": "code",
      "metadata": {
        "id": "A4UW5eOccATX",
        "colab": {
          "base_uri": "https://localhost:8080/"
        },
        "outputId": "7c70cd8f-12f5-4b0b-910a-cacc8fa89307"
      },
      "source": [
        "# 397 rows = 397 employees\n",
        "df.shape"
      ],
      "execution_count": 4,
      "outputs": [
        {
          "output_type": "execute_result",
          "data": {
            "text/plain": [
              "(397, 7)"
            ]
          },
          "metadata": {},
          "execution_count": 4
        }
      ]
    },
    {
      "cell_type": "code",
      "metadata": {
        "id": "IERZRhoJbYxC",
        "colab": {
          "base_uri": "https://localhost:8080/",
          "height": 206
        },
        "outputId": "3f87be2f-efaf-45eb-8792-52b0bc719af8"
      },
      "source": [
        "df.head()"
      ],
      "execution_count": 5,
      "outputs": [
        {
          "output_type": "execute_result",
          "data": {
            "text/html": [
              "\n",
              "  <div id=\"df-07a50266-ca76-4774-a5dc-82091412f0d4\">\n",
              "    <div class=\"colab-df-container\">\n",
              "      <div>\n",
              "<style scoped>\n",
              "    .dataframe tbody tr th:only-of-type {\n",
              "        vertical-align: middle;\n",
              "    }\n",
              "\n",
              "    .dataframe tbody tr th {\n",
              "        vertical-align: top;\n",
              "    }\n",
              "\n",
              "    .dataframe thead th {\n",
              "        text-align: right;\n",
              "    }\n",
              "</style>\n",
              "<table border=\"1\" class=\"dataframe\">\n",
              "  <thead>\n",
              "    <tr style=\"text-align: right;\">\n",
              "      <th></th>\n",
              "      <th>Unnamed: 0</th>\n",
              "      <th>rank</th>\n",
              "      <th>discipline</th>\n",
              "      <th>yrs.since.phd</th>\n",
              "      <th>yrs.service</th>\n",
              "      <th>sex</th>\n",
              "      <th>salary</th>\n",
              "    </tr>\n",
              "  </thead>\n",
              "  <tbody>\n",
              "    <tr>\n",
              "      <th>0</th>\n",
              "      <td>1</td>\n",
              "      <td>Prof</td>\n",
              "      <td>B</td>\n",
              "      <td>19</td>\n",
              "      <td>18</td>\n",
              "      <td>Male</td>\n",
              "      <td>139750</td>\n",
              "    </tr>\n",
              "    <tr>\n",
              "      <th>1</th>\n",
              "      <td>2</td>\n",
              "      <td>Prof</td>\n",
              "      <td>B</td>\n",
              "      <td>20</td>\n",
              "      <td>16</td>\n",
              "      <td>Male</td>\n",
              "      <td>173200</td>\n",
              "    </tr>\n",
              "    <tr>\n",
              "      <th>2</th>\n",
              "      <td>3</td>\n",
              "      <td>AsstProf</td>\n",
              "      <td>B</td>\n",
              "      <td>4</td>\n",
              "      <td>3</td>\n",
              "      <td>Male</td>\n",
              "      <td>79750</td>\n",
              "    </tr>\n",
              "    <tr>\n",
              "      <th>3</th>\n",
              "      <td>4</td>\n",
              "      <td>Prof</td>\n",
              "      <td>B</td>\n",
              "      <td>45</td>\n",
              "      <td>39</td>\n",
              "      <td>Male</td>\n",
              "      <td>115000</td>\n",
              "    </tr>\n",
              "    <tr>\n",
              "      <th>4</th>\n",
              "      <td>5</td>\n",
              "      <td>Prof</td>\n",
              "      <td>B</td>\n",
              "      <td>40</td>\n",
              "      <td>41</td>\n",
              "      <td>Male</td>\n",
              "      <td>141500</td>\n",
              "    </tr>\n",
              "  </tbody>\n",
              "</table>\n",
              "</div>\n",
              "      <button class=\"colab-df-convert\" onclick=\"convertToInteractive('df-07a50266-ca76-4774-a5dc-82091412f0d4')\"\n",
              "              title=\"Convert this dataframe to an interactive table.\"\n",
              "              style=\"display:none;\">\n",
              "        \n",
              "  <svg xmlns=\"http://www.w3.org/2000/svg\" height=\"24px\"viewBox=\"0 0 24 24\"\n",
              "       width=\"24px\">\n",
              "    <path d=\"M0 0h24v24H0V0z\" fill=\"none\"/>\n",
              "    <path d=\"M18.56 5.44l.94 2.06.94-2.06 2.06-.94-2.06-.94-.94-2.06-.94 2.06-2.06.94zm-11 1L8.5 8.5l.94-2.06 2.06-.94-2.06-.94L8.5 2.5l-.94 2.06-2.06.94zm10 10l.94 2.06.94-2.06 2.06-.94-2.06-.94-.94-2.06-.94 2.06-2.06.94z\"/><path d=\"M17.41 7.96l-1.37-1.37c-.4-.4-.92-.59-1.43-.59-.52 0-1.04.2-1.43.59L10.3 9.45l-7.72 7.72c-.78.78-.78 2.05 0 2.83L4 21.41c.39.39.9.59 1.41.59.51 0 1.02-.2 1.41-.59l7.78-7.78 2.81-2.81c.8-.78.8-2.07 0-2.86zM5.41 20L4 18.59l7.72-7.72 1.47 1.35L5.41 20z\"/>\n",
              "  </svg>\n",
              "      </button>\n",
              "      \n",
              "  <style>\n",
              "    .colab-df-container {\n",
              "      display:flex;\n",
              "      flex-wrap:wrap;\n",
              "      gap: 12px;\n",
              "    }\n",
              "\n",
              "    .colab-df-convert {\n",
              "      background-color: #E8F0FE;\n",
              "      border: none;\n",
              "      border-radius: 50%;\n",
              "      cursor: pointer;\n",
              "      display: none;\n",
              "      fill: #1967D2;\n",
              "      height: 32px;\n",
              "      padding: 0 0 0 0;\n",
              "      width: 32px;\n",
              "    }\n",
              "\n",
              "    .colab-df-convert:hover {\n",
              "      background-color: #E2EBFA;\n",
              "      box-shadow: 0px 1px 2px rgba(60, 64, 67, 0.3), 0px 1px 3px 1px rgba(60, 64, 67, 0.15);\n",
              "      fill: #174EA6;\n",
              "    }\n",
              "\n",
              "    [theme=dark] .colab-df-convert {\n",
              "      background-color: #3B4455;\n",
              "      fill: #D2E3FC;\n",
              "    }\n",
              "\n",
              "    [theme=dark] .colab-df-convert:hover {\n",
              "      background-color: #434B5C;\n",
              "      box-shadow: 0px 1px 3px 1px rgba(0, 0, 0, 0.15);\n",
              "      filter: drop-shadow(0px 1px 2px rgba(0, 0, 0, 0.3));\n",
              "      fill: #FFFFFF;\n",
              "    }\n",
              "  </style>\n",
              "\n",
              "      <script>\n",
              "        const buttonEl =\n",
              "          document.querySelector('#df-07a50266-ca76-4774-a5dc-82091412f0d4 button.colab-df-convert');\n",
              "        buttonEl.style.display =\n",
              "          google.colab.kernel.accessAllowed ? 'block' : 'none';\n",
              "\n",
              "        async function convertToInteractive(key) {\n",
              "          const element = document.querySelector('#df-07a50266-ca76-4774-a5dc-82091412f0d4');\n",
              "          const dataTable =\n",
              "            await google.colab.kernel.invokeFunction('convertToInteractive',\n",
              "                                                     [key], {});\n",
              "          if (!dataTable) return;\n",
              "\n",
              "          const docLinkHtml = 'Like what you see? Visit the ' +\n",
              "            '<a target=\"_blank\" href=https://colab.research.google.com/notebooks/data_table.ipynb>data table notebook</a>'\n",
              "            + ' to learn more about interactive tables.';\n",
              "          element.innerHTML = '';\n",
              "          dataTable['output_type'] = 'display_data';\n",
              "          await google.colab.output.renderOutput(dataTable, element);\n",
              "          const docLink = document.createElement('div');\n",
              "          docLink.innerHTML = docLinkHtml;\n",
              "          element.appendChild(docLink);\n",
              "        }\n",
              "      </script>\n",
              "    </div>\n",
              "  </div>\n",
              "  "
            ],
            "text/plain": [
              "   Unnamed: 0      rank discipline  yrs.since.phd  yrs.service   sex  salary\n",
              "0           1      Prof          B             19           18  Male  139750\n",
              "1           2      Prof          B             20           16  Male  173200\n",
              "2           3  AsstProf          B              4            3  Male   79750\n",
              "3           4      Prof          B             45           39  Male  115000\n",
              "4           5      Prof          B             40           41  Male  141500"
            ]
          },
          "metadata": {},
          "execution_count": 5
        }
      ]
    },
    {
      "cell_type": "code",
      "metadata": {
        "id": "va7JVaVkbgf5",
        "colab": {
          "base_uri": "https://localhost:8080/",
          "height": 206
        },
        "outputId": "6e10ef90-dc26-452e-fdec-07dca5336194"
      },
      "source": [
        "df.tail()"
      ],
      "execution_count": 6,
      "outputs": [
        {
          "output_type": "execute_result",
          "data": {
            "text/html": [
              "\n",
              "  <div id=\"df-d0034898-52a9-4a60-9019-18a8b8199e11\">\n",
              "    <div class=\"colab-df-container\">\n",
              "      <div>\n",
              "<style scoped>\n",
              "    .dataframe tbody tr th:only-of-type {\n",
              "        vertical-align: middle;\n",
              "    }\n",
              "\n",
              "    .dataframe tbody tr th {\n",
              "        vertical-align: top;\n",
              "    }\n",
              "\n",
              "    .dataframe thead th {\n",
              "        text-align: right;\n",
              "    }\n",
              "</style>\n",
              "<table border=\"1\" class=\"dataframe\">\n",
              "  <thead>\n",
              "    <tr style=\"text-align: right;\">\n",
              "      <th></th>\n",
              "      <th>Unnamed: 0</th>\n",
              "      <th>rank</th>\n",
              "      <th>discipline</th>\n",
              "      <th>yrs.since.phd</th>\n",
              "      <th>yrs.service</th>\n",
              "      <th>sex</th>\n",
              "      <th>salary</th>\n",
              "    </tr>\n",
              "  </thead>\n",
              "  <tbody>\n",
              "    <tr>\n",
              "      <th>392</th>\n",
              "      <td>393</td>\n",
              "      <td>Prof</td>\n",
              "      <td>A</td>\n",
              "      <td>33</td>\n",
              "      <td>30</td>\n",
              "      <td>Male</td>\n",
              "      <td>103106</td>\n",
              "    </tr>\n",
              "    <tr>\n",
              "      <th>393</th>\n",
              "      <td>394</td>\n",
              "      <td>Prof</td>\n",
              "      <td>A</td>\n",
              "      <td>31</td>\n",
              "      <td>19</td>\n",
              "      <td>Male</td>\n",
              "      <td>150564</td>\n",
              "    </tr>\n",
              "    <tr>\n",
              "      <th>394</th>\n",
              "      <td>395</td>\n",
              "      <td>Prof</td>\n",
              "      <td>A</td>\n",
              "      <td>42</td>\n",
              "      <td>25</td>\n",
              "      <td>Male</td>\n",
              "      <td>101738</td>\n",
              "    </tr>\n",
              "    <tr>\n",
              "      <th>395</th>\n",
              "      <td>396</td>\n",
              "      <td>Prof</td>\n",
              "      <td>A</td>\n",
              "      <td>25</td>\n",
              "      <td>15</td>\n",
              "      <td>Male</td>\n",
              "      <td>95329</td>\n",
              "    </tr>\n",
              "    <tr>\n",
              "      <th>396</th>\n",
              "      <td>397</td>\n",
              "      <td>AsstProf</td>\n",
              "      <td>A</td>\n",
              "      <td>8</td>\n",
              "      <td>4</td>\n",
              "      <td>Male</td>\n",
              "      <td>81035</td>\n",
              "    </tr>\n",
              "  </tbody>\n",
              "</table>\n",
              "</div>\n",
              "      <button class=\"colab-df-convert\" onclick=\"convertToInteractive('df-d0034898-52a9-4a60-9019-18a8b8199e11')\"\n",
              "              title=\"Convert this dataframe to an interactive table.\"\n",
              "              style=\"display:none;\">\n",
              "        \n",
              "  <svg xmlns=\"http://www.w3.org/2000/svg\" height=\"24px\"viewBox=\"0 0 24 24\"\n",
              "       width=\"24px\">\n",
              "    <path d=\"M0 0h24v24H0V0z\" fill=\"none\"/>\n",
              "    <path d=\"M18.56 5.44l.94 2.06.94-2.06 2.06-.94-2.06-.94-.94-2.06-.94 2.06-2.06.94zm-11 1L8.5 8.5l.94-2.06 2.06-.94-2.06-.94L8.5 2.5l-.94 2.06-2.06.94zm10 10l.94 2.06.94-2.06 2.06-.94-2.06-.94-.94-2.06-.94 2.06-2.06.94z\"/><path d=\"M17.41 7.96l-1.37-1.37c-.4-.4-.92-.59-1.43-.59-.52 0-1.04.2-1.43.59L10.3 9.45l-7.72 7.72c-.78.78-.78 2.05 0 2.83L4 21.41c.39.39.9.59 1.41.59.51 0 1.02-.2 1.41-.59l7.78-7.78 2.81-2.81c.8-.78.8-2.07 0-2.86zM5.41 20L4 18.59l7.72-7.72 1.47 1.35L5.41 20z\"/>\n",
              "  </svg>\n",
              "      </button>\n",
              "      \n",
              "  <style>\n",
              "    .colab-df-container {\n",
              "      display:flex;\n",
              "      flex-wrap:wrap;\n",
              "      gap: 12px;\n",
              "    }\n",
              "\n",
              "    .colab-df-convert {\n",
              "      background-color: #E8F0FE;\n",
              "      border: none;\n",
              "      border-radius: 50%;\n",
              "      cursor: pointer;\n",
              "      display: none;\n",
              "      fill: #1967D2;\n",
              "      height: 32px;\n",
              "      padding: 0 0 0 0;\n",
              "      width: 32px;\n",
              "    }\n",
              "\n",
              "    .colab-df-convert:hover {\n",
              "      background-color: #E2EBFA;\n",
              "      box-shadow: 0px 1px 2px rgba(60, 64, 67, 0.3), 0px 1px 3px 1px rgba(60, 64, 67, 0.15);\n",
              "      fill: #174EA6;\n",
              "    }\n",
              "\n",
              "    [theme=dark] .colab-df-convert {\n",
              "      background-color: #3B4455;\n",
              "      fill: #D2E3FC;\n",
              "    }\n",
              "\n",
              "    [theme=dark] .colab-df-convert:hover {\n",
              "      background-color: #434B5C;\n",
              "      box-shadow: 0px 1px 3px 1px rgba(0, 0, 0, 0.15);\n",
              "      filter: drop-shadow(0px 1px 2px rgba(0, 0, 0, 0.3));\n",
              "      fill: #FFFFFF;\n",
              "    }\n",
              "  </style>\n",
              "\n",
              "      <script>\n",
              "        const buttonEl =\n",
              "          document.querySelector('#df-d0034898-52a9-4a60-9019-18a8b8199e11 button.colab-df-convert');\n",
              "        buttonEl.style.display =\n",
              "          google.colab.kernel.accessAllowed ? 'block' : 'none';\n",
              "\n",
              "        async function convertToInteractive(key) {\n",
              "          const element = document.querySelector('#df-d0034898-52a9-4a60-9019-18a8b8199e11');\n",
              "          const dataTable =\n",
              "            await google.colab.kernel.invokeFunction('convertToInteractive',\n",
              "                                                     [key], {});\n",
              "          if (!dataTable) return;\n",
              "\n",
              "          const docLinkHtml = 'Like what you see? Visit the ' +\n",
              "            '<a target=\"_blank\" href=https://colab.research.google.com/notebooks/data_table.ipynb>data table notebook</a>'\n",
              "            + ' to learn more about interactive tables.';\n",
              "          element.innerHTML = '';\n",
              "          dataTable['output_type'] = 'display_data';\n",
              "          await google.colab.output.renderOutput(dataTable, element);\n",
              "          const docLink = document.createElement('div');\n",
              "          docLink.innerHTML = docLinkHtml;\n",
              "          element.appendChild(docLink);\n",
              "        }\n",
              "      </script>\n",
              "    </div>\n",
              "  </div>\n",
              "  "
            ],
            "text/plain": [
              "     Unnamed: 0      rank discipline  yrs.since.phd  yrs.service   sex  salary\n",
              "392         393      Prof          A             33           30  Male  103106\n",
              "393         394      Prof          A             31           19  Male  150564\n",
              "394         395      Prof          A             42           25  Male  101738\n",
              "395         396      Prof          A             25           15  Male   95329\n",
              "396         397  AsstProf          A              8            4  Male   81035"
            ]
          },
          "metadata": {},
          "execution_count": 6
        }
      ]
    },
    {
      "cell_type": "code",
      "metadata": {
        "id": "nNjdIb0YbjBy",
        "colab": {
          "base_uri": "https://localhost:8080/",
          "height": 300
        },
        "outputId": "e2d3b663-0d68-4cd8-e2c7-3c4b6c64909d"
      },
      "source": [
        "df.describe()"
      ],
      "execution_count": 7,
      "outputs": [
        {
          "output_type": "execute_result",
          "data": {
            "text/html": [
              "\n",
              "  <div id=\"df-c5c57ddf-a53e-4312-b525-f3ea1ad5bdfb\">\n",
              "    <div class=\"colab-df-container\">\n",
              "      <div>\n",
              "<style scoped>\n",
              "    .dataframe tbody tr th:only-of-type {\n",
              "        vertical-align: middle;\n",
              "    }\n",
              "\n",
              "    .dataframe tbody tr th {\n",
              "        vertical-align: top;\n",
              "    }\n",
              "\n",
              "    .dataframe thead th {\n",
              "        text-align: right;\n",
              "    }\n",
              "</style>\n",
              "<table border=\"1\" class=\"dataframe\">\n",
              "  <thead>\n",
              "    <tr style=\"text-align: right;\">\n",
              "      <th></th>\n",
              "      <th>Unnamed: 0</th>\n",
              "      <th>yrs.since.phd</th>\n",
              "      <th>yrs.service</th>\n",
              "      <th>salary</th>\n",
              "    </tr>\n",
              "  </thead>\n",
              "  <tbody>\n",
              "    <tr>\n",
              "      <th>count</th>\n",
              "      <td>397.000000</td>\n",
              "      <td>397.000000</td>\n",
              "      <td>397.000000</td>\n",
              "      <td>397.000000</td>\n",
              "    </tr>\n",
              "    <tr>\n",
              "      <th>mean</th>\n",
              "      <td>199.000000</td>\n",
              "      <td>22.314861</td>\n",
              "      <td>17.614610</td>\n",
              "      <td>113706.458438</td>\n",
              "    </tr>\n",
              "    <tr>\n",
              "      <th>std</th>\n",
              "      <td>114.748275</td>\n",
              "      <td>12.887003</td>\n",
              "      <td>13.006024</td>\n",
              "      <td>30289.038695</td>\n",
              "    </tr>\n",
              "    <tr>\n",
              "      <th>min</th>\n",
              "      <td>1.000000</td>\n",
              "      <td>1.000000</td>\n",
              "      <td>0.000000</td>\n",
              "      <td>57800.000000</td>\n",
              "    </tr>\n",
              "    <tr>\n",
              "      <th>25%</th>\n",
              "      <td>100.000000</td>\n",
              "      <td>12.000000</td>\n",
              "      <td>7.000000</td>\n",
              "      <td>91000.000000</td>\n",
              "    </tr>\n",
              "    <tr>\n",
              "      <th>50%</th>\n",
              "      <td>199.000000</td>\n",
              "      <td>21.000000</td>\n",
              "      <td>16.000000</td>\n",
              "      <td>107300.000000</td>\n",
              "    </tr>\n",
              "    <tr>\n",
              "      <th>75%</th>\n",
              "      <td>298.000000</td>\n",
              "      <td>32.000000</td>\n",
              "      <td>27.000000</td>\n",
              "      <td>134185.000000</td>\n",
              "    </tr>\n",
              "    <tr>\n",
              "      <th>max</th>\n",
              "      <td>397.000000</td>\n",
              "      <td>56.000000</td>\n",
              "      <td>60.000000</td>\n",
              "      <td>231545.000000</td>\n",
              "    </tr>\n",
              "  </tbody>\n",
              "</table>\n",
              "</div>\n",
              "      <button class=\"colab-df-convert\" onclick=\"convertToInteractive('df-c5c57ddf-a53e-4312-b525-f3ea1ad5bdfb')\"\n",
              "              title=\"Convert this dataframe to an interactive table.\"\n",
              "              style=\"display:none;\">\n",
              "        \n",
              "  <svg xmlns=\"http://www.w3.org/2000/svg\" height=\"24px\"viewBox=\"0 0 24 24\"\n",
              "       width=\"24px\">\n",
              "    <path d=\"M0 0h24v24H0V0z\" fill=\"none\"/>\n",
              "    <path d=\"M18.56 5.44l.94 2.06.94-2.06 2.06-.94-2.06-.94-.94-2.06-.94 2.06-2.06.94zm-11 1L8.5 8.5l.94-2.06 2.06-.94-2.06-.94L8.5 2.5l-.94 2.06-2.06.94zm10 10l.94 2.06.94-2.06 2.06-.94-2.06-.94-.94-2.06-.94 2.06-2.06.94z\"/><path d=\"M17.41 7.96l-1.37-1.37c-.4-.4-.92-.59-1.43-.59-.52 0-1.04.2-1.43.59L10.3 9.45l-7.72 7.72c-.78.78-.78 2.05 0 2.83L4 21.41c.39.39.9.59 1.41.59.51 0 1.02-.2 1.41-.59l7.78-7.78 2.81-2.81c.8-.78.8-2.07 0-2.86zM5.41 20L4 18.59l7.72-7.72 1.47 1.35L5.41 20z\"/>\n",
              "  </svg>\n",
              "      </button>\n",
              "      \n",
              "  <style>\n",
              "    .colab-df-container {\n",
              "      display:flex;\n",
              "      flex-wrap:wrap;\n",
              "      gap: 12px;\n",
              "    }\n",
              "\n",
              "    .colab-df-convert {\n",
              "      background-color: #E8F0FE;\n",
              "      border: none;\n",
              "      border-radius: 50%;\n",
              "      cursor: pointer;\n",
              "      display: none;\n",
              "      fill: #1967D2;\n",
              "      height: 32px;\n",
              "      padding: 0 0 0 0;\n",
              "      width: 32px;\n",
              "    }\n",
              "\n",
              "    .colab-df-convert:hover {\n",
              "      background-color: #E2EBFA;\n",
              "      box-shadow: 0px 1px 2px rgba(60, 64, 67, 0.3), 0px 1px 3px 1px rgba(60, 64, 67, 0.15);\n",
              "      fill: #174EA6;\n",
              "    }\n",
              "\n",
              "    [theme=dark] .colab-df-convert {\n",
              "      background-color: #3B4455;\n",
              "      fill: #D2E3FC;\n",
              "    }\n",
              "\n",
              "    [theme=dark] .colab-df-convert:hover {\n",
              "      background-color: #434B5C;\n",
              "      box-shadow: 0px 1px 3px 1px rgba(0, 0, 0, 0.15);\n",
              "      filter: drop-shadow(0px 1px 2px rgba(0, 0, 0, 0.3));\n",
              "      fill: #FFFFFF;\n",
              "    }\n",
              "  </style>\n",
              "\n",
              "      <script>\n",
              "        const buttonEl =\n",
              "          document.querySelector('#df-c5c57ddf-a53e-4312-b525-f3ea1ad5bdfb button.colab-df-convert');\n",
              "        buttonEl.style.display =\n",
              "          google.colab.kernel.accessAllowed ? 'block' : 'none';\n",
              "\n",
              "        async function convertToInteractive(key) {\n",
              "          const element = document.querySelector('#df-c5c57ddf-a53e-4312-b525-f3ea1ad5bdfb');\n",
              "          const dataTable =\n",
              "            await google.colab.kernel.invokeFunction('convertToInteractive',\n",
              "                                                     [key], {});\n",
              "          if (!dataTable) return;\n",
              "\n",
              "          const docLinkHtml = 'Like what you see? Visit the ' +\n",
              "            '<a target=\"_blank\" href=https://colab.research.google.com/notebooks/data_table.ipynb>data table notebook</a>'\n",
              "            + ' to learn more about interactive tables.';\n",
              "          element.innerHTML = '';\n",
              "          dataTable['output_type'] = 'display_data';\n",
              "          await google.colab.output.renderOutput(dataTable, element);\n",
              "          const docLink = document.createElement('div');\n",
              "          docLink.innerHTML = docLinkHtml;\n",
              "          element.appendChild(docLink);\n",
              "        }\n",
              "      </script>\n",
              "    </div>\n",
              "  </div>\n",
              "  "
            ],
            "text/plain": [
              "       Unnamed: 0  yrs.since.phd  yrs.service         salary\n",
              "count  397.000000     397.000000   397.000000     397.000000\n",
              "mean   199.000000      22.314861    17.614610  113706.458438\n",
              "std    114.748275      12.887003    13.006024   30289.038695\n",
              "min      1.000000       1.000000     0.000000   57800.000000\n",
              "25%    100.000000      12.000000     7.000000   91000.000000\n",
              "50%    199.000000      21.000000    16.000000  107300.000000\n",
              "75%    298.000000      32.000000    27.000000  134185.000000\n",
              "max    397.000000      56.000000    60.000000  231545.000000"
            ]
          },
          "metadata": {},
          "execution_count": 7
        }
      ]
    },
    {
      "cell_type": "markdown",
      "metadata": {
        "id": "oOu2hmOQaUAG"
      },
      "source": [
        "# Mean/median of all salaries"
      ]
    },
    {
      "cell_type": "code",
      "metadata": {
        "id": "wgaarFV3cVM9",
        "colab": {
          "base_uri": "https://localhost:8080/"
        },
        "outputId": "7f63631b-6a5c-412e-dba1-f06162248638"
      },
      "source": [
        "# Mean of all salaries\n",
        "print(df['salary'].mean())"
      ],
      "execution_count": 8,
      "outputs": [
        {
          "output_type": "stream",
          "name": "stdout",
          "text": [
            "113706.45843828715\n"
          ]
        }
      ]
    },
    {
      "cell_type": "code",
      "metadata": {
        "id": "1qQDqlPlcae3",
        "colab": {
          "base_uri": "https://localhost:8080/"
        },
        "outputId": "60637ee7-2684-4f0b-d29d-c79e6324bc39"
      },
      "source": [
        "# Median of all salaries\n",
        "print(df['salary'].median())"
      ],
      "execution_count": 9,
      "outputs": [
        {
          "output_type": "stream",
          "name": "stdout",
          "text": [
            "107300.0\n"
          ]
        }
      ]
    },
    {
      "cell_type": "markdown",
      "metadata": {
        "id": "yCy0KrhbaV5n"
      },
      "source": [
        "# Median salary between gender and/or rank(title) Etc...\n"
      ]
    },
    {
      "cell_type": "markdown",
      "metadata": {
        "id": "pBNcIW03WmS2"
      },
      "source": [
        "Making a new Data Frame that only has the columns 'sex' and 'salary'"
      ]
    },
    {
      "cell_type": "code",
      "metadata": {
        "id": "jWAVicJXc-lk",
        "colab": {
          "base_uri": "https://localhost:8080/"
        },
        "outputId": "9f8b5c25-fa1a-401f-8c9f-5aafc80cb226"
      },
      "source": [
        "new_df = df[['sex','salary']]\n",
        "print(new_df)"
      ],
      "execution_count": 10,
      "outputs": [
        {
          "output_type": "stream",
          "name": "stdout",
          "text": [
            "      sex  salary\n",
            "0    Male  139750\n",
            "1    Male  173200\n",
            "2    Male   79750\n",
            "3    Male  115000\n",
            "4    Male  141500\n",
            "..    ...     ...\n",
            "392  Male  103106\n",
            "393  Male  150564\n",
            "394  Male  101738\n",
            "395  Male   95329\n",
            "396  Male   81035\n",
            "\n",
            "[397 rows x 2 columns]\n"
          ]
        }
      ]
    },
    {
      "cell_type": "code",
      "metadata": {
        "id": "y3oA1K1bdH3k"
      },
      "source": [
        ""
      ],
      "execution_count": 10,
      "outputs": []
    },
    {
      "cell_type": "code",
      "metadata": {
        "id": "6QKph0ec85Uf"
      },
      "source": [
        ""
      ],
      "execution_count": 10,
      "outputs": []
    },
    {
      "cell_type": "markdown",
      "metadata": {
        "id": "j6FRmL60Wxsl"
      },
      "source": [
        "Finding the Median salary for all males"
      ]
    },
    {
      "cell_type": "code",
      "metadata": {
        "id": "ky6vVVnRdlnA",
        "colab": {
          "base_uri": "https://localhost:8080/"
        },
        "outputId": "de8addad-0986-44d7-fbba-5dea0f0b469d"
      },
      "source": [
        "new_df_male = new_df[new_df.sex == 'Male']\n",
        "#print(new_df_male)\n",
        "print(new_df_male.salary.median())"
      ],
      "execution_count": 11,
      "outputs": [
        {
          "output_type": "stream",
          "name": "stdout",
          "text": [
            "108043.0\n"
          ]
        }
      ]
    },
    {
      "cell_type": "code",
      "metadata": {
        "id": "yqVT-hX78_qk"
      },
      "source": [
        ""
      ],
      "execution_count": 11,
      "outputs": []
    },
    {
      "cell_type": "code",
      "metadata": {
        "id": "DA0YteZ78_td"
      },
      "source": [
        ""
      ],
      "execution_count": 11,
      "outputs": []
    },
    {
      "cell_type": "code",
      "metadata": {
        "id": "c9qQwX7e8_v5"
      },
      "source": [
        ""
      ],
      "execution_count": 11,
      "outputs": []
    },
    {
      "cell_type": "markdown",
      "metadata": {
        "id": "LeJTjR7IXAfs"
      },
      "source": [
        "Finding the Median salary for all females"
      ]
    },
    {
      "cell_type": "code",
      "metadata": {
        "id": "1oUJYrOP9Fub",
        "colab": {
          "base_uri": "https://localhost:8080/"
        },
        "outputId": "3b8edba0-13a3-4de7-bc06-3328fe86cf23"
      },
      "source": [
        "new_df_female = new_df[new_df['sex'] == 'Female' ] \n",
        "#print(new_df_female)\n",
        "print(new_df_female['salary'].median())"
      ],
      "execution_count": 12,
      "outputs": [
        {
          "output_type": "stream",
          "name": "stdout",
          "text": [
            "103750.0\n"
          ]
        }
      ]
    },
    {
      "cell_type": "code",
      "metadata": {
        "id": "3sgja0d49Fxm"
      },
      "source": [
        ""
      ],
      "execution_count": 12,
      "outputs": []
    },
    {
      "cell_type": "code",
      "metadata": {
        "id": "dazbnwns9F1l"
      },
      "source": [
        ""
      ],
      "execution_count": 12,
      "outputs": []
    },
    {
      "cell_type": "code",
      "metadata": {
        "id": "CxFzs0GS9F5k"
      },
      "source": [
        ""
      ],
      "execution_count": 12,
      "outputs": []
    },
    {
      "cell_type": "code",
      "metadata": {
        "id": "k15C7QN_9F9h"
      },
      "source": [
        ""
      ],
      "execution_count": 12,
      "outputs": []
    },
    {
      "cell_type": "markdown",
      "metadata": {
        "id": "5Tw_igCfXWmB"
      },
      "source": [
        "Comparing the Mean salary of Males and Females"
      ]
    },
    {
      "cell_type": "code",
      "metadata": {
        "id": "R7TV0xtE9Ll8",
        "colab": {
          "base_uri": "https://localhost:8080/"
        },
        "outputId": "c9a45916-e301-47dc-b4dd-009621f90edc"
      },
      "source": [
        "\n",
        "difference = new_df_male['salary'].mean() - new_df_female['salary'].mean()\n",
        "#print(difference)\n",
        "difference = '{:.2f}'.format(difference)\n",
        "print(difference)"
      ],
      "execution_count": 13,
      "outputs": [
        {
          "output_type": "stream",
          "name": "stdout",
          "text": [
            "14088.01\n"
          ]
        }
      ]
    },
    {
      "cell_type": "code",
      "metadata": {
        "id": "aPyxwdS69LpN"
      },
      "source": [
        ""
      ],
      "execution_count": 13,
      "outputs": []
    },
    {
      "cell_type": "code",
      "metadata": {
        "id": "xOWSRisa9LyG",
        "colab": {
          "base_uri": "https://localhost:8080/"
        },
        "outputId": "aaf376c7-d1ea-4a3b-9279-f1f8a2102626"
      },
      "source": [
        "# The difference between mean salaries of male and female\n",
        "print('The difference between mean salaries of male and female is ' + str(difference))"
      ],
      "execution_count": 14,
      "outputs": [
        {
          "output_type": "stream",
          "name": "stdout",
          "text": [
            "The difference between mean salaries of male and female is 14088.01\n"
          ]
        }
      ]
    },
    {
      "cell_type": "markdown",
      "metadata": {
        "id": "fufsyykZafDa"
      },
      "source": [
        "# Data Wrangling – perform some basic transformations on the data"
      ]
    },
    {
      "cell_type": "markdown",
      "metadata": {
        "id": "KWpSuxybUGWK"
      },
      "source": [
        "People who have 20 years of experience (Total: 157), (Mean Salary: 122,520.66)"
      ]
    },
    {
      "cell_type": "code",
      "metadata": {
        "id": "n5sdVrDN9S7u",
        "colab": {
          "base_uri": "https://localhost:8080/"
        },
        "outputId": "75ca4db2-d0b4-431a-ca24-e27bc45a77c6"
      },
      "source": [
        "new_df_20moreyears = df[df['yrs.service'] >= 20]\n",
        "print(new_df_20moreyears)\n",
        "mean_20moreyears = '{:.2f}'.format(new_df_20moreyears['salary'].mean())\n",
        "print(mean_20moreyears)"
      ],
      "execution_count": 15,
      "outputs": [
        {
          "output_type": "stream",
          "name": "stdout",
          "text": [
            "     Unnamed: 0  rank discipline  yrs.since.phd  yrs.service   sex  salary\n",
            "3             4  Prof          B             45           39  Male  115000\n",
            "4             5  Prof          B             40           41  Male  141500\n",
            "6             7  Prof          B             30           23  Male  175000\n",
            "7             8  Prof          B             45           45  Male  147765\n",
            "8             9  Prof          B             21           20  Male  119250\n",
            "..          ...   ...        ...            ...          ...   ...     ...\n",
            "384         385  Prof          A             27           21  Male  125192\n",
            "386         387  Prof          A             29           27  Male  139219\n",
            "388         389  Prof          A             38           36  Male  119450\n",
            "392         393  Prof          A             33           30  Male  103106\n",
            "394         395  Prof          A             42           25  Male  101738\n",
            "\n",
            "[157 rows x 7 columns]\n",
            "122520.66\n"
          ]
        }
      ]
    },
    {
      "cell_type": "code",
      "metadata": {
        "id": "33ZLAyp69Ucw"
      },
      "source": [
        ""
      ],
      "execution_count": 15,
      "outputs": []
    },
    {
      "cell_type": "code",
      "metadata": {
        "id": "uoTGBfZr9Ufy"
      },
      "source": [
        ""
      ],
      "execution_count": 15,
      "outputs": []
    },
    {
      "cell_type": "markdown",
      "metadata": {
        "id": "rnhjMu7qX7ao"
      },
      "source": [
        "Comparing the salaries of people who have 20+ years of experience vs less than 20 years of experience"
      ]
    },
    {
      "cell_type": "code",
      "metadata": {
        "id": "VLBmpIXc9gKh",
        "colab": {
          "base_uri": "https://localhost:8080/"
        },
        "outputId": "3d8076c1-fa66-4bef-d948-33046020076d"
      },
      "source": [
        "new_df_20lessyears = df[df['yrs.service'] < 20]\n",
        "#print(new_df_20lessyears)\n",
        "mean_20lessyears = '{:.2f}'.format(new_df_20lessyears['salary'].mean())\n",
        "print('Mean salaries of people with less than 20 years experience: ' + str(mean_20lessyears))\n",
        "print('Mean salaries of people with more than 20 years experience: ' + str(mean_20moreyears))\n"
      ],
      "execution_count": 16,
      "outputs": [
        {
          "output_type": "stream",
          "name": "stdout",
          "text": [
            "Mean salaries of people with less than 20 years experience: 107940.50\n",
            "Mean salaries of people with more than 20 years experience: 122520.66\n"
          ]
        }
      ]
    },
    {
      "cell_type": "code",
      "metadata": {
        "id": "r5u5KyDe9gMn"
      },
      "source": [
        ""
      ],
      "execution_count": 16,
      "outputs": []
    },
    {
      "cell_type": "code",
      "metadata": {
        "id": "vcohgqM09gP_"
      },
      "source": [
        ""
      ],
      "execution_count": 16,
      "outputs": []
    },
    {
      "cell_type": "markdown",
      "metadata": {
        "id": "54eM4tj4V66j"
      },
      "source": [
        "People who have salary of greater than or equal to 200,000"
      ]
    },
    {
      "cell_type": "code",
      "metadata": {
        "id": "pGOB4eEY9nwG",
        "colab": {
          "base_uri": "https://localhost:8080/"
        },
        "outputId": "9fad107d-839e-4133-df42-81191d48004a"
      },
      "source": [
        "new_df_200000salary = df[df['salary'] >= 200000]\n",
        "print(new_df_200000salary)"
      ],
      "execution_count": 17,
      "outputs": [
        {
          "output_type": "stream",
          "name": "stdout",
          "text": [
            "     Unnamed: 0  rank discipline  yrs.since.phd  yrs.service   sex  salary\n",
            "43           44  Prof          B             38           38  Male  231545\n",
            "249         250  Prof          A             29            7  Male  204000\n",
            "364         365  Prof          A             43           43  Male  205500\n"
          ]
        }
      ]
    },
    {
      "cell_type": "code",
      "metadata": {
        "id": "K1vHeaSS9nzB"
      },
      "source": [
        ""
      ],
      "execution_count": 17,
      "outputs": []
    },
    {
      "cell_type": "markdown",
      "metadata": {
        "id": "8zwXwZF0ZbPG"
      },
      "source": [
        "Your Findings here...\n"
      ]
    },
    {
      "cell_type": "markdown",
      "metadata": {
        "id": "Omuf-X37agBG"
      },
      "source": [
        "# Rename values, subset columns, etc"
      ]
    },
    {
      "cell_type": "code",
      "metadata": {
        "id": "6DzowXPt9vM3",
        "outputId": "4c11d70a-0e28-4309-f660-70df1ec7a63f",
        "colab": {
          "base_uri": "https://localhost:8080/",
          "height": 424
        }
      },
      "source": [
        "newdf2 = df.copy()\n",
        "newdf2.rename(columns = {'Unnamed: 0': 'id number' , 'yrs.since.phd': 'phd yrs', 'discipline': 'grades', 'yrs.service' : 'service years', 'sex' : 'gender', 'salary' : 'compensation'})"
      ],
      "execution_count": 18,
      "outputs": [
        {
          "output_type": "execute_result",
          "data": {
            "text/html": [
              "\n",
              "  <div id=\"df-d28dcae6-39df-4c26-8b16-2d60af13ee3d\">\n",
              "    <div class=\"colab-df-container\">\n",
              "      <div>\n",
              "<style scoped>\n",
              "    .dataframe tbody tr th:only-of-type {\n",
              "        vertical-align: middle;\n",
              "    }\n",
              "\n",
              "    .dataframe tbody tr th {\n",
              "        vertical-align: top;\n",
              "    }\n",
              "\n",
              "    .dataframe thead th {\n",
              "        text-align: right;\n",
              "    }\n",
              "</style>\n",
              "<table border=\"1\" class=\"dataframe\">\n",
              "  <thead>\n",
              "    <tr style=\"text-align: right;\">\n",
              "      <th></th>\n",
              "      <th>id number</th>\n",
              "      <th>rank</th>\n",
              "      <th>grades</th>\n",
              "      <th>phd yrs</th>\n",
              "      <th>service years</th>\n",
              "      <th>gender</th>\n",
              "      <th>compensation</th>\n",
              "    </tr>\n",
              "  </thead>\n",
              "  <tbody>\n",
              "    <tr>\n",
              "      <th>0</th>\n",
              "      <td>1</td>\n",
              "      <td>Prof</td>\n",
              "      <td>B</td>\n",
              "      <td>19</td>\n",
              "      <td>18</td>\n",
              "      <td>Male</td>\n",
              "      <td>139750</td>\n",
              "    </tr>\n",
              "    <tr>\n",
              "      <th>1</th>\n",
              "      <td>2</td>\n",
              "      <td>Prof</td>\n",
              "      <td>B</td>\n",
              "      <td>20</td>\n",
              "      <td>16</td>\n",
              "      <td>Male</td>\n",
              "      <td>173200</td>\n",
              "    </tr>\n",
              "    <tr>\n",
              "      <th>2</th>\n",
              "      <td>3</td>\n",
              "      <td>AsstProf</td>\n",
              "      <td>B</td>\n",
              "      <td>4</td>\n",
              "      <td>3</td>\n",
              "      <td>Male</td>\n",
              "      <td>79750</td>\n",
              "    </tr>\n",
              "    <tr>\n",
              "      <th>3</th>\n",
              "      <td>4</td>\n",
              "      <td>Prof</td>\n",
              "      <td>B</td>\n",
              "      <td>45</td>\n",
              "      <td>39</td>\n",
              "      <td>Male</td>\n",
              "      <td>115000</td>\n",
              "    </tr>\n",
              "    <tr>\n",
              "      <th>4</th>\n",
              "      <td>5</td>\n",
              "      <td>Prof</td>\n",
              "      <td>B</td>\n",
              "      <td>40</td>\n",
              "      <td>41</td>\n",
              "      <td>Male</td>\n",
              "      <td>141500</td>\n",
              "    </tr>\n",
              "    <tr>\n",
              "      <th>...</th>\n",
              "      <td>...</td>\n",
              "      <td>...</td>\n",
              "      <td>...</td>\n",
              "      <td>...</td>\n",
              "      <td>...</td>\n",
              "      <td>...</td>\n",
              "      <td>...</td>\n",
              "    </tr>\n",
              "    <tr>\n",
              "      <th>392</th>\n",
              "      <td>393</td>\n",
              "      <td>Prof</td>\n",
              "      <td>A</td>\n",
              "      <td>33</td>\n",
              "      <td>30</td>\n",
              "      <td>Male</td>\n",
              "      <td>103106</td>\n",
              "    </tr>\n",
              "    <tr>\n",
              "      <th>393</th>\n",
              "      <td>394</td>\n",
              "      <td>Prof</td>\n",
              "      <td>A</td>\n",
              "      <td>31</td>\n",
              "      <td>19</td>\n",
              "      <td>Male</td>\n",
              "      <td>150564</td>\n",
              "    </tr>\n",
              "    <tr>\n",
              "      <th>394</th>\n",
              "      <td>395</td>\n",
              "      <td>Prof</td>\n",
              "      <td>A</td>\n",
              "      <td>42</td>\n",
              "      <td>25</td>\n",
              "      <td>Male</td>\n",
              "      <td>101738</td>\n",
              "    </tr>\n",
              "    <tr>\n",
              "      <th>395</th>\n",
              "      <td>396</td>\n",
              "      <td>Prof</td>\n",
              "      <td>A</td>\n",
              "      <td>25</td>\n",
              "      <td>15</td>\n",
              "      <td>Male</td>\n",
              "      <td>95329</td>\n",
              "    </tr>\n",
              "    <tr>\n",
              "      <th>396</th>\n",
              "      <td>397</td>\n",
              "      <td>AsstProf</td>\n",
              "      <td>A</td>\n",
              "      <td>8</td>\n",
              "      <td>4</td>\n",
              "      <td>Male</td>\n",
              "      <td>81035</td>\n",
              "    </tr>\n",
              "  </tbody>\n",
              "</table>\n",
              "<p>397 rows × 7 columns</p>\n",
              "</div>\n",
              "      <button class=\"colab-df-convert\" onclick=\"convertToInteractive('df-d28dcae6-39df-4c26-8b16-2d60af13ee3d')\"\n",
              "              title=\"Convert this dataframe to an interactive table.\"\n",
              "              style=\"display:none;\">\n",
              "        \n",
              "  <svg xmlns=\"http://www.w3.org/2000/svg\" height=\"24px\"viewBox=\"0 0 24 24\"\n",
              "       width=\"24px\">\n",
              "    <path d=\"M0 0h24v24H0V0z\" fill=\"none\"/>\n",
              "    <path d=\"M18.56 5.44l.94 2.06.94-2.06 2.06-.94-2.06-.94-.94-2.06-.94 2.06-2.06.94zm-11 1L8.5 8.5l.94-2.06 2.06-.94-2.06-.94L8.5 2.5l-.94 2.06-2.06.94zm10 10l.94 2.06.94-2.06 2.06-.94-2.06-.94-.94-2.06-.94 2.06-2.06.94z\"/><path d=\"M17.41 7.96l-1.37-1.37c-.4-.4-.92-.59-1.43-.59-.52 0-1.04.2-1.43.59L10.3 9.45l-7.72 7.72c-.78.78-.78 2.05 0 2.83L4 21.41c.39.39.9.59 1.41.59.51 0 1.02-.2 1.41-.59l7.78-7.78 2.81-2.81c.8-.78.8-2.07 0-2.86zM5.41 20L4 18.59l7.72-7.72 1.47 1.35L5.41 20z\"/>\n",
              "  </svg>\n",
              "      </button>\n",
              "      \n",
              "  <style>\n",
              "    .colab-df-container {\n",
              "      display:flex;\n",
              "      flex-wrap:wrap;\n",
              "      gap: 12px;\n",
              "    }\n",
              "\n",
              "    .colab-df-convert {\n",
              "      background-color: #E8F0FE;\n",
              "      border: none;\n",
              "      border-radius: 50%;\n",
              "      cursor: pointer;\n",
              "      display: none;\n",
              "      fill: #1967D2;\n",
              "      height: 32px;\n",
              "      padding: 0 0 0 0;\n",
              "      width: 32px;\n",
              "    }\n",
              "\n",
              "    .colab-df-convert:hover {\n",
              "      background-color: #E2EBFA;\n",
              "      box-shadow: 0px 1px 2px rgba(60, 64, 67, 0.3), 0px 1px 3px 1px rgba(60, 64, 67, 0.15);\n",
              "      fill: #174EA6;\n",
              "    }\n",
              "\n",
              "    [theme=dark] .colab-df-convert {\n",
              "      background-color: #3B4455;\n",
              "      fill: #D2E3FC;\n",
              "    }\n",
              "\n",
              "    [theme=dark] .colab-df-convert:hover {\n",
              "      background-color: #434B5C;\n",
              "      box-shadow: 0px 1px 3px 1px rgba(0, 0, 0, 0.15);\n",
              "      filter: drop-shadow(0px 1px 2px rgba(0, 0, 0, 0.3));\n",
              "      fill: #FFFFFF;\n",
              "    }\n",
              "  </style>\n",
              "\n",
              "      <script>\n",
              "        const buttonEl =\n",
              "          document.querySelector('#df-d28dcae6-39df-4c26-8b16-2d60af13ee3d button.colab-df-convert');\n",
              "        buttonEl.style.display =\n",
              "          google.colab.kernel.accessAllowed ? 'block' : 'none';\n",
              "\n",
              "        async function convertToInteractive(key) {\n",
              "          const element = document.querySelector('#df-d28dcae6-39df-4c26-8b16-2d60af13ee3d');\n",
              "          const dataTable =\n",
              "            await google.colab.kernel.invokeFunction('convertToInteractive',\n",
              "                                                     [key], {});\n",
              "          if (!dataTable) return;\n",
              "\n",
              "          const docLinkHtml = 'Like what you see? Visit the ' +\n",
              "            '<a target=\"_blank\" href=https://colab.research.google.com/notebooks/data_table.ipynb>data table notebook</a>'\n",
              "            + ' to learn more about interactive tables.';\n",
              "          element.innerHTML = '';\n",
              "          dataTable['output_type'] = 'display_data';\n",
              "          await google.colab.output.renderOutput(dataTable, element);\n",
              "          const docLink = document.createElement('div');\n",
              "          docLink.innerHTML = docLinkHtml;\n",
              "          element.appendChild(docLink);\n",
              "        }\n",
              "      </script>\n",
              "    </div>\n",
              "  </div>\n",
              "  "
            ],
            "text/plain": [
              "     id number      rank grades  phd yrs  service years gender  compensation\n",
              "0            1      Prof      B       19             18   Male        139750\n",
              "1            2      Prof      B       20             16   Male        173200\n",
              "2            3  AsstProf      B        4              3   Male         79750\n",
              "3            4      Prof      B       45             39   Male        115000\n",
              "4            5      Prof      B       40             41   Male        141500\n",
              "..         ...       ...    ...      ...            ...    ...           ...\n",
              "392        393      Prof      A       33             30   Male        103106\n",
              "393        394      Prof      A       31             19   Male        150564\n",
              "394        395      Prof      A       42             25   Male        101738\n",
              "395        396      Prof      A       25             15   Male         95329\n",
              "396        397  AsstProf      A        8              4   Male         81035\n",
              "\n",
              "[397 rows x 7 columns]"
            ]
          },
          "metadata": {},
          "execution_count": 18
        }
      ]
    },
    {
      "cell_type": "code",
      "metadata": {
        "id": "k8Dah3NK9vYR"
      },
      "source": [
        ""
      ],
      "execution_count": 18,
      "outputs": []
    },
    {
      "cell_type": "markdown",
      "metadata": {
        "id": "aExLKbRRaiAv"
      },
      "source": [
        "# Create some simple visualizations showing some simple statistics"
      ]
    },
    {
      "cell_type": "code",
      "source": [
        "df.plot(kind = 'scatter', x = 'yrs.service', y = 'salary')"
      ],
      "metadata": {
        "id": "98dws3wEOHY_",
        "outputId": "f3d171d2-1693-494c-c4c8-c4275e6c138b",
        "colab": {
          "base_uri": "https://localhost:8080/",
          "height": 297
        }
      },
      "execution_count": 27,
      "outputs": [
        {
          "output_type": "execute_result",
          "data": {
            "text/plain": [
              "<matplotlib.axes._subplots.AxesSubplot at 0x7fb3eb9ece90>"
            ]
          },
          "metadata": {},
          "execution_count": 27
        },
        {
          "output_type": "display_data",
          "data": {
            "image/png": "[encoded data removed]",
            "text/plain": [
              "<Figure size 432x288 with 1 Axes>"
            ]
          },
          "metadata": {
            "needs_background": "light"
          }
        }
      ]
    },
    {
      "cell_type": "code",
      "metadata": {
        "id": "JX_P5QHV92Ji",
        "colab": {
          "base_uri": "https://localhost:8080/",
          "height": 295
        },
        "outputId": "17882e4d-3f59-4e9f-873b-5200b7f9fd7e"
      },
      "source": [
        "plt.scatter(df['yrs.service'], df['salary'])\n",
        "m,b = np.polyfit(df['yrs.service'], df['salary'],1)\n",
        "plt.plot(df['yrs.service'],m*df['yrs.service']+b, color = 'red')\n",
        "plt.title('Years vs Salary')\n",
        "plt.xlabel('Years of Employment')\n",
        "plt.ylabel('Salary')\n",
        "plt.show()"
      ],
      "execution_count": 19,
      "outputs": [
        {
          "output_type": "display_data",
          "data": {
            "image/png": "[encoded data removed]",
            "text/plain": [
              "<Figure size 432x288 with 1 Axes>"
            ]
          },
          "metadata": {
            "needs_background": "light"
          }
        }
      ]
    },
    {
      "cell_type": "code",
      "metadata": {
        "id": "S_Bu49tD92ON",
        "colab": {
          "base_uri": "https://localhost:8080/",
          "height": 313
        },
        "outputId": "e637337d-88b3-4f4c-b2dc-4b36e5bf1c18"
      },
      "source": [
        "df_male = df[df['sex'] == 'Male']\n",
        "df_female = df[df['sex'] == 'Female']\n",
        "plt.scatter(df_male['yrs.service'],df_male.salary,color = 'blue')\n",
        "plt.scatter(df_female['yrs.service'],df_female.salary, color = 'hotpink')\n",
        "m1, b1 = np.polyfit(df_male['yrs.service'], df_male.salary, 1)\n",
        "plt.plot(df_male['yrs.service'], m1* df_male['yrs.service'] + b1, color = 'green')\n",
        "m2, b2 = np.polyfit(df_female['yrs.service'], df_female.salary, 1)\n",
        "plt.plot(df_female['yrs.service'], m2*df_female['yrs.service'] + b2, color = 'orange')\n",
        "plt.title('Years vs Salary, Gendered')\n",
        "plt.xlabel('Years of Employment')\n",
        "plt.ylabel('Salary')\n",
        "plt.legend(['Male',\"Female\"])"
      ],
      "execution_count": 20,
      "outputs": [
        {
          "output_type": "execute_result",
          "data": {
            "text/plain": [
              "<matplotlib.legend.Legend at 0x7fb3f1128810>"
            ]
          },
          "metadata": {},
          "execution_count": 20
        },
        {
          "output_type": "display_data",
          "data": {
            "image/png": "[encoded data removed]",
            "text/plain": [
              "<Figure size 432x288 with 1 Axes>"
            ]
          },
          "metadata": {
            "needs_background": "light"
          }
        }
      ]
    },
    {
      "cell_type": "code",
      "metadata": {
        "id": "9lNOSSEV92RR",
        "colab": {
          "base_uri": "https://localhost:8080/",
          "height": 295
        },
        "outputId": "9bb51bcd-3e68-4b2f-e68d-f580c5a83891"
      },
      "source": [
        "new_df_20moreyears = df[df['yrs.service'] >= 20]\n",
        "new_df_20lessyears = df[df['yrs.service'] < 20]\n",
        "plt.hist(new_df_20moreyears['salary'], bins = 'auto', alpha = 0.5)\n",
        "plt.hist(new_df_20lessyears['salary'], bins = 'auto', alpha = 0.5)\n",
        "plt.title('Salaries according to Seniority')\n",
        "plt.xlabel('Salaries')\n",
        "plt.legend(['20+ years','fewer than 20'])\n",
        "plt.show()"
      ],
      "execution_count": 21,
      "outputs": [
        {
          "output_type": "display_data",
          "data": {
            "image/png": "[encoded data removed]",
            "text/plain": [
              "<Figure size 432x288 with 1 Axes>"
            ]
          },
          "metadata": {
            "needs_background": "light"
          }
        }
      ]
    },
    {
      "cell_type": "markdown",
      "metadata": {
        "id": "vM_4yRvgd6h2"
      },
      "source": [
        "Your observations from the visuals: "
      ]
    },
    {
      "cell_type": "markdown",
      "metadata": {
        "id": "mZoOuCUvakSc"
      },
      "source": [
        "# Draw some conclusions based on the data.  What did you discover?"
      ]
    },
    {
      "cell_type": "markdown",
      "metadata": {
        "id": "gBp8qWEDbhKH"
      },
      "source": [
        "Based on the analysis performed above, the conclusions are as follows:\n",
        "1. In the graph \"Years v Salary\", we can see that, as expected, the more years of service, the higher the salary. The best fit line corroborates that conclusion. \n",
        "However, we can also see that there are quite a few outliers-- namely, those in the lower right quadrant of the graph with lower salary but high years of service.\n",
        "2. In 'Years vs Salary, Gendered\", we can see that while men do generally start out their careers with a higher salary than women, the salaries for women increase more quickly as their years of service increase. \n",
        "In the best fit lines for both genders, the lines cross around 22 years of service.\n",
        "3. In 'Salary according to Seniority', the histogram of those who have less than 20 years experience is skewed right, with more data concentrated on the lower end of the salary scale. The histogram of those who have more than 20 years experience is more skewed neutral, and resembles more of a bell curve shape.\n",
        "\n",
        "\n",
        "\n",
        "\n",
        "\n"
      ]
    }
  ]
}