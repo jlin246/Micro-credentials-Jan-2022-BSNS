{
  "nbformat": 4,
  "nbformat_minor": 0,
  "metadata": {
    "colab": {
      "name": "Unit 3 Lect 1.ipynb",
      "provenance": [],
      "collapsed_sections": [],
      "include_colab_link": true
    },
    "kernelspec": {
      "name": "python3",
      "display_name": "Python 3"
    }
  },
  "cells": [
    {
      "cell_type": "markdown",
      "metadata": {
        "id": "view-in-github",
        "colab_type": "text"
      },
      "source": [
        "<a href=\"https://colab.research.google.com/github/jlin246/Micro-credentials-Jan-2022-BSNS/blob/main/python/Unit%203/Unit_3_Lect_1.ipynb\" target=\"_parent\"><img src=\"https://colab.research.google.com/assets/colab-badge.svg\" alt=\"Open In Colab\"/></a>"
      ]
    },
    {
      "cell_type": "code",
      "metadata": {
        "colab": {
          "base_uri": "https://localhost:8080/"
        },
        "id": "mtAG8JEBa59F",
        "outputId": "b05f6d1d-8d13-4745-9bb5-abc9c2879b9c"
      },
      "source": [
        "import numpy as numpy\n",
        "import numpy as np\n",
        "a = np.array([1,2,3,9], dtype='int32')\n",
        "print(a)"
      ],
      "execution_count": null,
      "outputs": [
        {
          "output_type": "stream",
          "name": "stdout",
          "text": [
            "[1 2 3 9]\n"
          ]
        }
      ]
    },
    {
      "cell_type": "code",
      "source": [
        "arr = numpy.array([121,123,127,140,125,133,141,130,129,])\n",
        "x = numpy.amax(arr)\n",
        "print(x)"
      ],
      "metadata": {
        "id": "LBbZ2X6Gqb2L",
        "colab": {
          "base_uri": "https://localhost:8080/"
        },
        "outputId": "7f5fd734-3afe-48a9-9c71-5e007fe9038c"
      },
      "execution_count": null,
      "outputs": [
        {
          "output_type": "stream",
          "name": "stdout",
          "text": [
            "141\n"
          ]
        }
      ]
    },
    {
      "cell_type": "code",
      "source": [
        "arr = numpy.array([121,123,127,140,125,133,141,130,129,])\n",
        "\n",
        "x = numpy.std(arr)\n",
        "print(x)\n",
        "\n",
        "print(numpy.min(arr))\n",
        "\n",
        "print(numpy.mean(arr))"
      ],
      "metadata": {
        "colab": {
          "base_uri": "https://localhost:8080/"
        },
        "id": "Gl9on17BsDGB",
        "outputId": "ad8130d8-9891-4f92-84a7-2108aed6d993"
      },
      "execution_count": null,
      "outputs": [
        {
          "output_type": "stream",
          "name": "stdout",
          "text": [
            "6.623937138128391\n",
            "121\n",
            "129.88888888888889\n"
          ]
        }
      ]
    },
    {
      "cell_type": "code",
      "metadata": {
        "colab": {
          "base_uri": "https://localhost:8080/"
        },
        "id": "1sFIKpL9bZXT",
        "outputId": "a8e09125-ede8-4af1-f4d6-35386d0a3bf9"
      },
      "source": [
        "import numpy as np\n",
        "b = np.array([[9.0,8.0,7.0],[6.0,5.0,4.0]])\n",
        "print(b)\n",
        "print(b.size)\n",
        "#Elements\n",
        "print(b.itemsize)\n",
        "#itemsize() function return the length of one array element in bytes.\n",
        "b.shape\n"
      ],
      "execution_count": null,
      "outputs": [
        {
          "output_type": "stream",
          "name": "stdout",
          "text": [
            "[[9. 8. 7.]\n",
            " [6. 5. 4.]]\n",
            "6\n",
            "8\n"
          ]
        },
        {
          "output_type": "execute_result",
          "data": {
            "text/plain": [
              "(2, 3)"
            ]
          },
          "metadata": {},
          "execution_count": 7
        }
      ]
    },
    {
      "cell_type": "code",
      "metadata": {
        "colab": {
          "base_uri": "https://localhost:8080/"
        },
        "id": "rH0kYi9ehiGC",
        "outputId": "117007bf-c9d3-4888-ad35-fab0dc2e4ca8"
      },
      "source": [
        "b.ndim"
      ],
      "execution_count": null,
      "outputs": [
        {
          "output_type": "execute_result",
          "data": {
            "text/plain": [
              "2"
            ]
          },
          "metadata": {
            "tags": []
          },
          "execution_count": 25
        }
      ]
    },
    {
      "cell_type": "code",
      "metadata": {
        "colab": {
          "base_uri": "https://localhost:8080/"
        },
        "id": "TUCFC3aEbbrz",
        "outputId": "042ac817-9470-41da-f3c6-619e9a5fd2e3"
      },
      "source": [
        "# Get Dimension\n",
        "a.ndim"
      ],
      "execution_count": null,
      "outputs": [
        {
          "output_type": "execute_result",
          "data": {
            "text/plain": [
              "1"
            ]
          },
          "metadata": {
            "tags": []
          },
          "execution_count": 35
        }
      ]
    },
    {
      "cell_type": "code",
      "metadata": {
        "colab": {
          "base_uri": "https://localhost:8080/"
        },
        "id": "28UwKk_eh-IY",
        "outputId": "e9894ad1-3e4c-4f0d-d31d-2a3935c3cd7c"
      },
      "source": [
        "#Get shape (tuples)\n",
        "a.shape"
      ],
      "execution_count": null,
      "outputs": [
        {
          "output_type": "execute_result",
          "data": {
            "text/plain": [
              "(4,)"
            ]
          },
          "metadata": {
            "tags": []
          },
          "execution_count": 36
        }
      ]
    },
    {
      "cell_type": "code",
      "metadata": {
        "colab": {
          "base_uri": "https://localhost:8080/"
        },
        "id": "M6D-xq5bbnzR",
        "outputId": "a2dc699a-d195-4470-e040-c91419fed4eb"
      },
      "source": [
        " #Get Type\n",
        "a.dtype"
      ],
      "execution_count": null,
      "outputs": [
        {
          "output_type": "execute_result",
          "data": {
            "text/plain": [
              "dtype('int32')"
            ]
          },
          "metadata": {},
          "execution_count": 3
        }
      ]
    },
    {
      "cell_type": "code",
      "metadata": {
        "colab": {
          "base_uri": "https://localhost:8080/"
        },
        "id": "jB8RkbRFbvrp",
        "outputId": "bfe567f0-cf48-4e08-a6ec-93ac9d463e1a"
      },
      "source": [
        "# Get Size\n",
        "a.itemsize"
      ],
      "execution_count": null,
      "outputs": [
        {
          "output_type": "execute_result",
          "data": {
            "text/plain": [
              "4"
            ]
          },
          "metadata": {
            "tags": []
          },
          "execution_count": 37
        }
      ]
    },
    {
      "cell_type": "code",
      "metadata": {
        "colab": {
          "base_uri": "https://localhost:8080/"
        },
        "id": "t2UyNZ3sb5bm",
        "outputId": "f19affd2-9e9c-4bee-ea95-ed24f7a30d16"
      },
      "source": [
        "#Get number of elements\n",
        "a.size"
      ],
      "execution_count": null,
      "outputs": [
        {
          "output_type": "execute_result",
          "data": {
            "text/plain": [
              "4"
            ]
          },
          "metadata": {
            "tags": []
          },
          "execution_count": 38
        }
      ]
    },
    {
      "cell_type": "code",
      "metadata": {
        "colab": {
          "base_uri": "https://localhost:8080/"
        },
        "id": "c2iKylDEH9s0",
        "outputId": "772625e1-f891-43c8-d1c0-1f493d9755ab"
      },
      "source": [
        "import numpy as np\n",
        "c= np.array([13.1,2,3,9])\n",
        "print(c)\n",
        "print(c.itemsize)\n",
        "c.size"
      ],
      "execution_count": null,
      "outputs": [
        {
          "output_type": "stream",
          "name": "stdout",
          "text": [
            "[13.1  2.   3.   9. ]\n",
            "8\n"
          ]
        },
        {
          "output_type": "execute_result",
          "data": {
            "text/plain": [
              "4"
            ]
          },
          "metadata": {},
          "execution_count": 5
        }
      ]
    },
    {
      "cell_type": "code",
      "metadata": {
        "colab": {
          "base_uri": "https://localhost:8080/"
        },
        "id": "BhPdkRZsnPtQ",
        "outputId": "e87e1cf9-0417-4c68-957c-39efa14f0f11"
      },
      "source": [
        "import numpy as np\n",
        "cars= np.array(['dodge','jeep','bmw'], dtype=str)\n",
        "print(cars)"
      ],
      "execution_count": null,
      "outputs": [
        {
          "output_type": "stream",
          "name": "stdout",
          "text": [
            "['dodge' 'jeep' 'bmw']\n"
          ]
        }
      ]
    },
    {
      "cell_type": "code",
      "metadata": {
        "colab": {
          "base_uri": "https://localhost:8080/"
        },
        "id": "Xb8eEdvIoHp1",
        "outputId": "cb3f1333-d2a4-4c45-85c3-b399200516b3"
      },
      "source": [
        "cars.shape"
      ],
      "execution_count": null,
      "outputs": [
        {
          "output_type": "execute_result",
          "data": {
            "text/plain": [
              "(3,)"
            ]
          },
          "metadata": {},
          "execution_count": 5
        }
      ]
    },
    {
      "cell_type": "code",
      "metadata": {
        "colab": {
          "base_uri": "https://localhost:8080/"
        },
        "id": "6-buaUt6otng",
        "outputId": "d8535df6-ddd2-43ef-c60d-03aa693e4ab5"
      },
      "source": [
        "cars.size"
      ],
      "execution_count": null,
      "outputs": [
        {
          "output_type": "execute_result",
          "data": {
            "text/plain": [
              "3"
            ]
          },
          "metadata": {},
          "execution_count": 6
        }
      ]
    },
    {
      "cell_type": "code",
      "metadata": {
        "colab": {
          "base_uri": "https://localhost:8080/"
        },
        "id": "TVAei9cCox9w",
        "outputId": "7c259142-eea7-446d-d2e9-976b4ec064ef"
      },
      "source": [
        "cars.ndim"
      ],
      "execution_count": null,
      "outputs": [
        {
          "output_type": "execute_result",
          "data": {
            "text/plain": [
              "1"
            ]
          },
          "metadata": {},
          "execution_count": 7
        }
      ]
    },
    {
      "cell_type": "code",
      "metadata": {
        "colab": {
          "base_uri": "https://localhost:8080/"
        },
        "id": "lT8wQOUXo_rV",
        "outputId": "d35e1a7e-497e-4d8d-e444-f5035899d4df"
      },
      "source": [
        "cars.itemsize"
      ],
      "execution_count": null,
      "outputs": [
        {
          "output_type": "execute_result",
          "data": {
            "text/plain": [
              "20"
            ]
          },
          "metadata": {},
          "execution_count": 8
        }
      ]
    },
    {
      "cell_type": "code",
      "metadata": {
        "colab": {
          "base_uri": "https://localhost:8080/"
        },
        "id": "eDbUNXuHpPE5",
        "outputId": "3eac935a-3492-42d5-84cb-721cde6829c7"
      },
      "source": [
        "cars.dtype"
      ],
      "execution_count": null,
      "outputs": [
        {
          "output_type": "execute_result",
          "data": {
            "text/plain": [
              "dtype('<U5')"
            ]
          },
          "metadata": {},
          "execution_count": 9
        }
      ]
    },
    {
      "cell_type": "markdown",
      "metadata": {
        "id": "I3f31ydwcFPJ"
      },
      "source": [
        "\n",
        "Accessing/Changing specific elements, rows, columns, etc"
      ]
    },
    {
      "cell_type": "code",
      "metadata": {
        "colab": {
          "base_uri": "https://localhost:8080/"
        },
        "id": "wllcZwX8b-3R",
        "outputId": "0e7abba2-17d1-44e9-b093-4c5327a58102"
      },
      "source": [
        "a = np.array([[1,2,3,4,5,6,7],[8,9,10,11,12,13,14]])\n",
        "print(a)"
      ],
      "execution_count": null,
      "outputs": [
        {
          "output_type": "stream",
          "text": [
            "[[ 1  2  3  4  5  6  7]\n",
            " [ 8  9 10 11 12 13 14]]\n"
          ],
          "name": "stdout"
        }
      ]
    },
    {
      "cell_type": "code",
      "metadata": {
        "colab": {
          "base_uri": "https://localhost:8080/"
        },
        "id": "CbSlBPqjcHYx",
        "outputId": "347dc88a-dd06-4057-a496-2ce9d4c1448f"
      },
      "source": [
        "a = np.array([[1,2,3,4,5,6,7],[8,9,10,11,12,13,14]])\n",
        "print(a[1,0],a[1,2])\n"
      ],
      "execution_count": null,
      "outputs": [
        {
          "output_type": "stream",
          "text": [
            "8 10\n"
          ],
          "name": "stdout"
        }
      ]
    },
    {
      "cell_type": "code",
      "metadata": {
        "colab": {
          "base_uri": "https://localhost:8080/"
        },
        "id": "N4KJ8LJBcNZO",
        "outputId": "7eca1e47-b272-4ec0-c135-e3289e80257e"
      },
      "source": [
        "# Get a specific element [r, c]\n",
        "a[1, 5]"
      ],
      "execution_count": null,
      "outputs": [
        {
          "output_type": "execute_result",
          "data": {
            "text/plain": [
              "13"
            ]
          },
          "metadata": {
            "tags": []
          },
          "execution_count": 11
        }
      ]
    },
    {
      "cell_type": "code",
      "metadata": {
        "colab": {
          "base_uri": "https://localhost:8080/"
        },
        "id": "VXVAOESYcSm2",
        "outputId": "d8301f9b-a7d2-4c85-e045-5db6b89423d7"
      },
      "source": [
        "# Get a specific row \n",
        "a[0, :]"
      ],
      "execution_count": null,
      "outputs": [
        {
          "output_type": "execute_result",
          "data": {
            "text/plain": [
              "array([1, 2, 3, 4, 5, 6, 7])"
            ]
          },
          "metadata": {
            "tags": []
          },
          "execution_count": 12
        }
      ]
    },
    {
      "cell_type": "code",
      "metadata": {
        "colab": {
          "base_uri": "https://localhost:8080/"
        },
        "id": "g_7Raay9cW25",
        "outputId": "7f153c05-d8b4-4d76-bba5-cdac89fbc74f"
      },
      "source": [
        "# Get a specific column\n",
        "a[:, 2]"
      ],
      "execution_count": null,
      "outputs": [
        {
          "output_type": "execute_result",
          "data": {
            "text/plain": [
              "array([ 3, 10])"
            ]
          },
          "metadata": {
            "tags": []
          },
          "execution_count": 13
        }
      ]
    },
    {
      "cell_type": "markdown",
      "metadata": {
        "id": "VUP_fEqccz0V"
      },
      "source": [
        "Initializing Different Types of Arrays"
      ]
    },
    {
      "cell_type": "code",
      "metadata": {
        "colab": {
          "base_uri": "https://localhost:8080/"
        },
        "id": "vCmn8v4HczWl",
        "outputId": "675f19ef-9697-40c8-9dee-b9b833dd5e18"
      },
      "source": [
        "# All 0s matrix\n",
        "np.zeros((2,3))"
      ],
      "execution_count": null,
      "outputs": [
        {
          "output_type": "execute_result",
          "data": {
            "text/plain": [
              "array([[0., 0., 0.],\n",
              "       [0., 0., 0.]])"
            ]
          },
          "metadata": {
            "tags": []
          },
          "execution_count": 14
        }
      ]
    },
    {
      "cell_type": "code",
      "metadata": {
        "colab": {
          "base_uri": "https://localhost:8080/"
        },
        "id": "LTWWSxLLc5Z3",
        "outputId": "ea4868ef-6966-4b8c-b3e6-88daac4f87c2"
      },
      "source": [
        "# All 1s matrix\n",
        "d=np.ones((4,2), dtype='int32')\n",
        "d"
      ],
      "execution_count": null,
      "outputs": [
        {
          "output_type": "execute_result",
          "data": {
            "text/plain": [
              "array([[1, 1],\n",
              "       [1, 1],\n",
              "       [1, 1],\n",
              "       [1, 1]], dtype=int32)"
            ]
          },
          "metadata": {
            "tags": []
          },
          "execution_count": 16
        }
      ]
    },
    {
      "cell_type": "markdown",
      "metadata": {
        "id": "UcMwYIYxdoiJ"
      },
      "source": [
        "Mathematics/can perform basic +,-,/,* and advanced operations"
      ]
    },
    {
      "cell_type": "code",
      "metadata": {
        "colab": {
          "base_uri": "https://localhost:8080/"
        },
        "id": "t4B0McdmdI8x",
        "outputId": "dd53aa42-e28f-4b86-9f92-edfbd8a061c3"
      },
      "source": [
        "a = np.array([1,2,3,4])\n",
        "print(a)"
      ],
      "execution_count": null,
      "outputs": [
        {
          "output_type": "stream",
          "text": [
            "[1 2 3 4]\n"
          ],
          "name": "stdout"
        }
      ]
    },
    {
      "cell_type": "code",
      "metadata": {
        "colab": {
          "base_uri": "https://localhost:8080/"
        },
        "id": "ifRN0yK8dOeO",
        "outputId": "c959d596-3050-4ad7-e1fe-b1ad2194b99a"
      },
      "source": [
        "a + 2"
      ],
      "execution_count": null,
      "outputs": [
        {
          "output_type": "execute_result",
          "data": {
            "text/plain": [
              "array([3, 4, 5, 6])"
            ]
          },
          "metadata": {
            "tags": []
          },
          "execution_count": 17
        }
      ]
    },
    {
      "cell_type": "code",
      "metadata": {
        "colab": {
          "base_uri": "https://localhost:8080/"
        },
        "id": "n-rc6vFmdP8m",
        "outputId": "dcdd7bca-075a-483c-974c-16f7d345dd9f"
      },
      "source": [
        "a * 2"
      ],
      "execution_count": null,
      "outputs": [
        {
          "output_type": "execute_result",
          "data": {
            "text/plain": [
              "array([2, 4, 6, 8])"
            ]
          },
          "metadata": {
            "tags": []
          },
          "execution_count": 18
        }
      ]
    },
    {
      "cell_type": "code",
      "metadata": {
        "colab": {
          "base_uri": "https://localhost:8080/"
        },
        "id": "aEMQloWmdq3m",
        "outputId": "9ae3d367-31ab-4344-c151-158375760772"
      },
      "source": [
        "# adding two arrays ,is adding each element by element/They have to be the same size\n",
        "a = np.array([1,2,3,4])\n",
        "b = np.array([1,0,1,0])\n",
        "a + b"
      ],
      "execution_count": null,
      "outputs": [
        {
          "output_type": "execute_result",
          "data": {
            "text/plain": [
              "array([2, 2, 4, 4])"
            ]
          },
          "metadata": {
            "tags": []
          },
          "execution_count": 75
        }
      ]
    },
    {
      "cell_type": "markdown",
      "metadata": {
        "id": "LwHMZHPev1th"
      },
      "source": [
        "Accessing Elements of Array "
      ]
    },
    {
      "cell_type": "code",
      "metadata": {
        "colab": {
          "base_uri": "https://localhost:8080/"
        },
        "id": "jCSUFI03v62y",
        "outputId": "eae181f6-1c00-49b1-db6f-ab6a96579c9a"
      },
      "source": [
        "a = np.array([17,2,3,4])\n",
        "print(a[0])\n",
        "a[3]"
      ],
      "execution_count": null,
      "outputs": [
        {
          "output_type": "stream",
          "text": [
            "17\n"
          ],
          "name": "stdout"
        },
        {
          "output_type": "execute_result",
          "data": {
            "text/plain": [
              "4"
            ]
          },
          "metadata": {
            "tags": []
          },
          "execution_count": 79
        }
      ]
    },
    {
      "cell_type": "code",
      "metadata": {
        "colab": {
          "base_uri": "https://localhost:8080/"
        },
        "id": "c0J4lFyiv1Vz",
        "outputId": "feb620a6-3d2b-451c-d0a9-dabe21b94838"
      },
      "source": [
        "w=np.array([[1,2,3,4,5,6,7],[8,9,10,11,12,13,14]])\n",
        "print(w)\n",
        "print(w[0,0])\n",
        "print(w[1,3])"
      ],
      "execution_count": null,
      "outputs": [
        {
          "output_type": "stream",
          "text": [
            "[[ 1  2  3  4  5  6  7]\n",
            " [ 8  9 10 11 12 13 14]]\n",
            "1\n",
            "11\n"
          ],
          "name": "stdout"
        }
      ]
    },
    {
      "cell_type": "code",
      "metadata": {
        "colab": {
          "base_uri": "https://localhost:8080/"
        },
        "id": "tzwXsBEP0hmo",
        "outputId": "b39a81a5-1421-4986-e87d-2963a0a42294"
      },
      "source": [
        "import numpy as np\n",
        "arr = np.array([1, 2, 3, 4])\n",
        "print(arr[2] + arr[3])"
      ],
      "execution_count": null,
      "outputs": [
        {
          "output_type": "stream",
          "text": [
            "7\n"
          ],
          "name": "stdout"
        }
      ]
    },
    {
      "cell_type": "markdown",
      "metadata": {
        "id": "U_3C2Qv90JMk"
      },
      "source": [
        "*******Finding value greater or less < x >  in Array********** Assignment "
      ]
    },
    {
      "cell_type": "markdown",
      "metadata": {
        "id": "hvA5x_5KUFQc"
      },
      "source": [
        ""
      ]
    },
    {
      "cell_type": "code",
      "metadata": {
        "colab": {
          "base_uri": "https://localhost:8080/"
        },
        "id": "BtR6DlYv1ion",
        "outputId": "5aba1f2e-a720-4734-e7bd-01dfcaa809b8"
      },
      "source": [
        "import numpy as np\n",
        "studentscore = np.array([56,87,43,68,90])\n",
        "\n",
        "#Set condition\n",
        "passingscore=studentscore>60\n",
        "print(passingscore)\n",
        "\n",
        "#List values\n",
        "studentscore[passingscore]"
      ],
      "execution_count": null,
      "outputs": [
        {
          "output_type": "stream",
          "name": "stdout",
          "text": [
            "[False  True False  True  True]\n"
          ]
        },
        {
          "output_type": "execute_result",
          "data": {
            "text/plain": [
              "array([87, 68, 90])"
            ]
          },
          "metadata": {},
          "execution_count": 13
        }
      ]
    },
    {
      "cell_type": "markdown",
      "metadata": {
        "id": "hfkrmmUw5Tzp"
      },
      "source": [
        "Copy and view (slide 18)\n",
        "When working with arrays, data is copied into new arrays only in some cases. "
      ]
    },
    {
      "cell_type": "code",
      "metadata": {
        "colab": {
          "base_uri": "https://localhost:8080/"
        },
        "id": "DOk8DTua7sn-",
        "outputId": "645f1022-0f46-4a34-8109-d9cdeea36f76"
      },
      "source": [
        "import numpy as np\n",
        "cars= np.array(['dodge','jeep','bmw'])\n",
        "print(cars)\n",
        "autos=cars\n",
        "print(autos)\n",
        "#show both subjects are the same\n",
        "print(cars is autos)\n",
        "print(len (autos))\n",
        "autos[1]='benz'\n",
        "print(autos)\n",
        "print(cars)\n"
      ],
      "execution_count": null,
      "outputs": [
        {
          "output_type": "stream",
          "name": "stdout",
          "text": [
            "['dodge' 'jeep' 'bmw']\n",
            "['dodge' 'jeep' 'bmw']\n",
            "True\n",
            "3\n",
            "['dodge' 'benz' 'bmw']\n",
            "['dodge' 'benz' 'bmw']\n"
          ]
        }
      ]
    },
    {
      "cell_type": "markdown",
      "metadata": {
        "id": "S4EtcFtjSXxV"
      },
      "source": [
        "Some times we want to manuplate an array but keep a copy of older version"
      ]
    },
    {
      "cell_type": "code",
      "metadata": {
        "colab": {
          "base_uri": "https://localhost:8080/"
        },
        "id": "oANcHw5PC8x2",
        "outputId": "e64ed0b1-50b7-4415-8748-c354cd679c45"
      },
      "source": [
        "import numpy as np\n",
        "arr = np.array([1, 2, 3, 4, 5])\n",
        "x = arr.copy()\n",
        "arr[0] = 42\n",
        "\n",
        "print(arr)\n",
        "print(x)"
      ],
      "execution_count": null,
      "outputs": [
        {
          "output_type": "stream",
          "text": [
            "[42  2  3  4  5]\n",
            "[1 2 3 4 5]\n"
          ],
          "name": "stdout"
        }
      ]
    },
    {
      "cell_type": "markdown",
      "metadata": {
        "id": "EbcViOrjF0ol"
      },
      "source": [
        "(Ufunc) Universall functions ,ufuncs stands for \"Universal Functions\" and they are NumPy functions that operates on the ndarray object."
      ]
    },
    {
      "cell_type": "code",
      "metadata": {
        "colab": {
          "base_uri": "https://localhost:8080/"
        },
        "id": "mSLS7gFQGwmC",
        "outputId": "bad80ea9-82a8-4898-901a-49b827637a6a"
      },
      "source": [
        "import numpy as np\n",
        "\n",
        "x = [1, 2, 3, 4]\n",
        "y = [4, 5, 6, 7]\n",
        "z = np.add(x, y)\n",
        "\n",
        "print(z)"
      ],
      "execution_count": null,
      "outputs": [
        {
          "output_type": "stream",
          "text": [
            "[ 5  7  9 11]\n"
          ],
          "name": "stdout"
        }
      ]
    },
    {
      "cell_type": "code",
      "metadata": {
        "colab": {
          "base_uri": "https://localhost:8080/"
        },
        "id": "gf8KkTPTHECL",
        "outputId": "5a7b53ac-5861-451c-96e9-8d1eab1c032e"
      },
      "source": [
        "import numpy as np\n",
        "\n",
        "arr1 = np.array([10, 11, 12, 13, 14, 15])\n",
        "arr2 = np.array([20, 21, 22, 23, 24, 25])\n",
        "\n",
        "newarr = np.add(arr1, arr2)\n",
        "print(newarr)\n",
        "newarr=arr1 - arr2\n",
        "newarr\n",
        "print(newarr)"
      ],
      "execution_count": null,
      "outputs": [
        {
          "output_type": "stream",
          "text": [
            "[30 32 34 36 38 40]\n",
            "[-10 -10 -10 -10 -10 -10]\n"
          ],
          "name": "stdout"
        }
      ]
    },
    {
      "cell_type": "code",
      "metadata": {
        "colab": {
          "base_uri": "https://localhost:8080/"
        },
        "id": "fSotBB_FHnYj",
        "outputId": "27ec5526-be9a-4990-e6f4-ebfc9e7dd563"
      },
      "source": [
        "import numpy as np\n",
        "\n",
        "arr1 = ([10, 11, 45, 180, 90, 0])\n",
        "print(np.cos(arr1))\n",
        "print(np.sqrt(arr1)) "
      ],
      "execution_count": null,
      "outputs": [
        {
          "output_type": "stream",
          "text": [
            "[-0.83907153  0.0044257   0.52532199 -0.59846007 -0.44807362  1.        ]\n",
            "[ 3.16227766  3.31662479  6.70820393 13.41640786  9.48683298  0.        ]\n"
          ],
          "name": "stdout"
        }
      ]
    },
    {
      "cell_type": "markdown",
      "metadata": {
        "id": "SYZzjN3-QEKF"
      },
      "source": [
        "Transposing array (a = mxn, a^T = nxm)"
      ]
    },
    {
      "cell_type": "code",
      "metadata": {
        "colab": {
          "base_uri": "https://localhost:8080/"
        },
        "id": "8fvXOhcIQFVC",
        "outputId": "fc5859e7-0e99-4558-b998-8ff0341e353f"
      },
      "source": [
        "import numpy as np\n",
        "ary = np.array([[1, 2, 3], [4, 5, 6]])\n",
        "print(ary)\n",
        "np.transpose(ary)\n",
        "print(np.transpose(ary))"
      ],
      "execution_count": null,
      "outputs": [
        {
          "output_type": "stream",
          "text": [
            "[[1 2 3]\n",
            " [4 5 6]]\n",
            "[[1 4]\n",
            " [2 5]\n",
            " [3 6]]\n"
          ],
          "name": "stdout"
        }
      ]
    },
    {
      "cell_type": "markdown",
      "metadata": {
        "id": "EjHW7aBWXQs1"
      },
      "source": [
        "Statistics on Arrays"
      ]
    },
    {
      "cell_type": "markdown",
      "metadata": {
        "id": "mHDF-243XQbh"
      },
      "source": [
        "*******Finding min ,max values in Array********** Assignment"
      ]
    },
    {
      "cell_type": "code",
      "metadata": {
        "colab": {
          "base_uri": "https://localhost:8080/"
        },
        "id": "2_juqgEUXUuk",
        "outputId": "b341b4bb-1cb7-4cae-e9bd-7ef120b62a6e"
      },
      "source": [
        "#Find Max number in Array\n",
        "score = np.array([[1,2,3],[4,5,6]])\n",
        "score"
      ],
      "execution_count": null,
      "outputs": [
        {
          "output_type": "execute_result",
          "data": {
            "text/plain": [
              "array([[1, 2, 3],\n",
              "       [4, 5, 6]])"
            ]
          },
          "metadata": {
            "tags": []
          },
          "execution_count": 186
        }
      ]
    },
    {
      "cell_type": "code",
      "metadata": {
        "colab": {
          "base_uri": "https://localhost:8080/"
        },
        "id": "K0jD3imnXopa",
        "outputId": "e90896b1-bc83-49b2-f24d-3b806eeae285"
      },
      "source": [
        "print(np.min(score))\n",
        "print(np.max(score))\n"
      ],
      "execution_count": null,
      "outputs": [
        {
          "output_type": "stream",
          "text": [
            "1\n",
            "6\n"
          ],
          "name": "stdout"
        }
      ]
    },
    {
      "cell_type": "markdown",
      "metadata": {
        "id": "dc4VwBnGbuem"
      },
      "source": [
        "Assignment Unit_2,L1\n",
        "Find maximum value & its index in a 1D Numpy Array:"
      ]
    },
    {
      "cell_type": "code",
      "metadata": {
        "colab": {
          "base_uri": "https://localhost:8080/"
        },
        "id": "tbPK-yh7a-p9",
        "outputId": "2e4487cc-596e-461b-be26-a96c8a11954b"
      },
      "source": [
        "#Find maximum value & its index in a 1D Numpy Array:\n",
        "import numpy as np\n",
        "num = np.array([11, 12, 13, 14, 15, 16, 17, 15, 11, 12, 14, 15, 16, 17])\n",
        "print(np.max(num))\n",
        "print(np.min(num))\n",
        "print(np.std(num))"
      ],
      "execution_count": null,
      "outputs": [
        {
          "output_type": "stream",
          "name": "stdout",
          "text": [
            "17\n",
            "11\n",
            "1.9948914348241347\n"
          ]
        }
      ]
    },
    {
      "cell_type": "code",
      "source": [
        "import numpy as np\n",
        "num = np.array([11, 12, 13, 14, 15, 16, 17, 15, 11, 12, 14, 15, 16, 17])"
      ],
      "metadata": {
        "id": "q2C6ml2vuG3e"
      },
      "execution_count": null,
      "outputs": []
    },
    {
      "cell_type": "markdown",
      "metadata": {
        "id": "OpJogMd_cGrY"
      },
      "source": [
        "Find index of maximum value :\n",
        "Get the array of indices of maximum value in numpy array using numpy.where() *italicized text*"
      ]
    },
    {
      "cell_type": "code",
      "metadata": {
        "colab": {
          "base_uri": "https://localhost:8080/"
        },
        "id": "bXeZjTgycLm_",
        "outputId": "ec2a9b4f-0939-48c4-c49e-ba633ae36f98"
      },
      "source": [
        "# Get the max and indices of maximum element in numpy array\n",
        "import numpy as np\n",
        "num = np.array([11, 12, 13, 14, 15, 16, 17, 15, 11, 12, 14, 15, 16, 17])\n",
        "result = np.where(num == np.max(num)) #create variable which will have the value of the max element in array (num in this case)\n",
        "print('return max value',np.max(num))\n",
        "print('Returned tuple of arrays :', result) # \n",
        "print('List of Indices of maximum element :', result[0])#,result[0] is the variable where [0] indicates where in the array the max value is\n",
        "\n",
        "print('return min value:', np.min(num))\n",
        "print('returned tuple of arrays :', np.where(num == np.min(num)))\n",
        "print('list of indices of minimum element :', np.where(num == np.min(num))[0])"
      ],
      "execution_count": null,
      "outputs": [
        {
          "output_type": "stream",
          "name": "stdout",
          "text": [
            "return max value 17\n",
            "Returned tuple of arrays : (array([ 6, 13]),)\n",
            "List of Indices of maximum element : [ 6 13]\n",
            "return min value: 11\n",
            "returned tuple of arrays : (array([0, 8]),)\n",
            "list of indices of minimum element : [0 8]\n"
          ]
        }
      ]
    },
    {
      "cell_type": "code",
      "metadata": {
        "colab": {
          "base_uri": "https://localhost:8080/"
        },
        "id": "YE4LR1rOd5Tq",
        "outputId": "ec58432e-6f25-4c3b-db8f-d3ecd9d7a610"
      },
      "source": [
        "#Dataset from summer Olympic London, year 2012\n",
        "import numpy as np\n",
        "np_olympic_country = np.array(['GBR','China','RUS','US','KOR','JPN','GER'])\n",
        "np_olympic_country_Gold = np.array([29,38,24,46,13,7,11])\n",
        "np_olympic_country_Silver = np.array([17,28,25,28,8,14,11])\n",
        "np_olympic_country_Bronze = np.array([19,22,32,29,7,17,14])\n",
        "highest = np.where(np_olympic_country_Gold== np.max(np_olympic_country_Gold))\n",
        "print('Max number of gold medals',np.max(np_olympic_country_Gold ))\n",
        "print('index number of maximum element (gold medals) :', highest[0])\n",
        "print('The country with Max number of gold medals is:',np_olympic_country[highest])\n",
        "print('\\n')\n",
        "more_than_20_medals=np_olympic_country_Gold >20\n",
        "print(more_than_20_medals)\n",
        "np_olympic_country_Gold[more_than_20_medals]\n",
        "x = np.where(np_olympic_country_Gold >20)\n",
        "\n",
        "print('the countries with more than 20 medals are:',np_olympic_country[x])\n",
        "print('\\n')\n",
        "\n",
        "lowest = np.where(np_olympic_country_Gold == np.min(np_olympic_country_Gold))\n",
        "print('Minimum number of gold medals: ', np.min(np_olympic_country_Gold))\n",
        "print('index number of minimum element (gold medals): ', lowest[0])\n",
        "print('the country with min number of gold medals is ', np_olympic_country[lowest])"
      ],
      "execution_count": null,
      "outputs": [
        {
          "output_type": "stream",
          "name": "stdout",
          "text": [
            "Max number of gold medals 46\n",
            "index number of maximum element (gold medals) : [3]\n",
            "The country with Max number of gold medals is: ['US']\n",
            "\n",
            "\n",
            "[ True  True  True  True False False False]\n",
            "the countries with more than 20 medals are: ['GBR' 'China' 'RUS' 'US']\n",
            "\n",
            "\n",
            "Minimum number of gold medals:  7\n",
            "index number of minimum element (gold medals):  [5]\n",
            "the country with min number of gold medals is  ['JPN']\n"
          ]
        }
      ]
    },
    {
      "cell_type": "code",
      "metadata": {
        "colab": {
          "base_uri": "https://localhost:8080/"
        },
        "id": "9Oek0G2ykcEb",
        "outputId": "06e0ad88-e983-412c-9828-f9103316a726"
      },
      "source": [
        "#Find countrieas with more than 20 gold metals\n",
        "import numpy as np\n",
        "np_olympic_country_Gold = np.array([29,38,24,46,13,7,11])\n",
        "more_than_20_medals=np_olympic_country_Gold >20\n",
        "print(more_than_20_medals)\n",
        "np_olympic_country_Gold[more_than_20_medals]\n",
        "x = np.where(np_olympic_country_Gold >20)\n",
        "\n",
        "print(x)\n",
        "\n"
      ],
      "execution_count": null,
      "outputs": [
        {
          "output_type": "stream",
          "text": [
            "[ True  True  True  True False False False]\n",
            "(array([0, 1, 2, 3]),)\n"
          ],
          "name": "stdout"
        }
      ]
    }
  ]
}